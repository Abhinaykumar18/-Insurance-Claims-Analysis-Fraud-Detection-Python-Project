{
 "cells": [
  {
   "cell_type": "code",
   "execution_count": 517,
   "id": "2b41cbfd-3b63-4f2f-a190-b823e814998e",
   "metadata": {},
   "outputs": [],
   "source": [
    "import pandas as pd\n",
    "import numpy as np\n",
    "import matplotlib.pyplot as plt\n",
    "import datetime as dt\n",
    "import seaborn as sns\n",
    "import re\n",
    "import scipy.stats as stats\n",
    "# set the graphs to show in the jupyter notebook\n",
    "%matplotlib inline\n",
    "\n",
    "# set seabor graphs to a better style\n",
    "sns.set(style=\"ticks\")"
   ]
  },
  {
   "cell_type": "markdown",
   "id": "8c6cf084-2740-4132-8217-7178da8e1312",
   "metadata": {},
   "source": [
    "### 1. Import claims_data.csv and cust_data.csv which is provided to you and combine the two datasets appropriately to create a 360-degree view of the data. Use the same for the subsequent questions."
   ]
  },
  {
   "cell_type": "code",
   "execution_count": 519,
   "id": "7c47c09c-5ebb-4e7b-9c29-04100478fb84",
   "metadata": {},
   "outputs": [],
   "source": [
    "import os \n",
    "os.chdir(\"C:\\\\Users\\\\abhin\\\\Desktop\\\\Python case study quetions\\\\Case Study 3 - Insurance Claims Case Study\")"
   ]
  },
  {
   "cell_type": "code",
   "execution_count": 520,
   "id": "b51376f1-3ca0-4a91-9d59-5d391bcc5ee7",
   "metadata": {},
   "outputs": [],
   "source": [
    "cust_df = pd.read_csv(\"cust_demographics.csv\")\n",
    "claim_df = pd.read_csv(\"claims.csv\")"
   ]
  },
  {
   "cell_type": "code",
   "execution_count": 521,
   "id": "e952a45a-1fc0-4e17-8501-50806b338130",
   "metadata": {},
   "outputs": [
    {
     "data": {
      "text/html": [
       "<div>\n",
       "<style scoped>\n",
       "    .dataframe tbody tr th:only-of-type {\n",
       "        vertical-align: middle;\n",
       "    }\n",
       "\n",
       "    .dataframe tbody tr th {\n",
       "        vertical-align: top;\n",
       "    }\n",
       "\n",
       "    .dataframe thead th {\n",
       "        text-align: right;\n",
       "    }\n",
       "</style>\n",
       "<table border=\"1\" class=\"dataframe\">\n",
       "  <thead>\n",
       "    <tr style=\"text-align: right;\">\n",
       "      <th></th>\n",
       "      <th>claim_id</th>\n",
       "      <th>customer_id</th>\n",
       "      <th>incident_cause</th>\n",
       "      <th>claim_date</th>\n",
       "      <th>claim_area</th>\n",
       "      <th>police_report</th>\n",
       "      <th>claim_type</th>\n",
       "      <th>claim_amount</th>\n",
       "      <th>total_policy_claims</th>\n",
       "      <th>fraudulent</th>\n",
       "    </tr>\n",
       "  </thead>\n",
       "  <tbody>\n",
       "    <tr>\n",
       "      <th>0</th>\n",
       "      <td>54004764</td>\n",
       "      <td>21868593</td>\n",
       "      <td>Driver error</td>\n",
       "      <td>11/27/2017</td>\n",
       "      <td>Auto</td>\n",
       "      <td>No</td>\n",
       "      <td>Material only</td>\n",
       "      <td>$2980</td>\n",
       "      <td>1.0</td>\n",
       "      <td>No</td>\n",
       "    </tr>\n",
       "    <tr>\n",
       "      <th>1</th>\n",
       "      <td>33985796</td>\n",
       "      <td>75740424</td>\n",
       "      <td>Crime</td>\n",
       "      <td>10/03/2018</td>\n",
       "      <td>Home</td>\n",
       "      <td>Unknown</td>\n",
       "      <td>Material only</td>\n",
       "      <td>$2980</td>\n",
       "      <td>3.0</td>\n",
       "      <td>No</td>\n",
       "    </tr>\n",
       "    <tr>\n",
       "      <th>2</th>\n",
       "      <td>53522022</td>\n",
       "      <td>30308357</td>\n",
       "      <td>Other driver error</td>\n",
       "      <td>02/02/2018</td>\n",
       "      <td>Auto</td>\n",
       "      <td>No</td>\n",
       "      <td>Material only</td>\n",
       "      <td>$3369.5</td>\n",
       "      <td>1.0</td>\n",
       "      <td>Yes</td>\n",
       "    </tr>\n",
       "    <tr>\n",
       "      <th>3</th>\n",
       "      <td>13015401</td>\n",
       "      <td>47830476</td>\n",
       "      <td>Natural causes</td>\n",
       "      <td>06/17/2018</td>\n",
       "      <td>Auto</td>\n",
       "      <td>No</td>\n",
       "      <td>Material only</td>\n",
       "      <td>$1680</td>\n",
       "      <td>1.0</td>\n",
       "      <td>No</td>\n",
       "    </tr>\n",
       "    <tr>\n",
       "      <th>4</th>\n",
       "      <td>22890252</td>\n",
       "      <td>19269962</td>\n",
       "      <td>Crime</td>\n",
       "      <td>01/13/2018</td>\n",
       "      <td>Auto</td>\n",
       "      <td>No</td>\n",
       "      <td>Material only</td>\n",
       "      <td>$2680</td>\n",
       "      <td>1.0</td>\n",
       "      <td>No</td>\n",
       "    </tr>\n",
       "  </tbody>\n",
       "</table>\n",
       "</div>"
      ],
      "text/plain": [
       "   claim_id  customer_id      incident_cause  claim_date claim_area  \\\n",
       "0  54004764     21868593        Driver error  11/27/2017       Auto   \n",
       "1  33985796     75740424               Crime  10/03/2018       Home   \n",
       "2  53522022     30308357  Other driver error  02/02/2018       Auto   \n",
       "3  13015401     47830476      Natural causes  06/17/2018       Auto   \n",
       "4  22890252     19269962               Crime  01/13/2018       Auto   \n",
       "\n",
       "  police_report     claim_type claim_amount  total_policy_claims fraudulent  \n",
       "0            No  Material only        $2980                  1.0         No  \n",
       "1       Unknown  Material only        $2980                  3.0         No  \n",
       "2            No  Material only      $3369.5                  1.0        Yes  \n",
       "3            No  Material only        $1680                  1.0         No  \n",
       "4            No  Material only        $2680                  1.0         No  "
      ]
     },
     "execution_count": 521,
     "metadata": {},
     "output_type": "execute_result"
    }
   ],
   "source": [
    "claim_df.head()"
   ]
  },
  {
   "cell_type": "code",
   "execution_count": 522,
   "id": "477d4110-a959-4aef-8668-8cba26af9d90",
   "metadata": {},
   "outputs": [
    {
     "data": {
      "text/html": [
       "<div>\n",
       "<style scoped>\n",
       "    .dataframe tbody tr th:only-of-type {\n",
       "        vertical-align: middle;\n",
       "    }\n",
       "\n",
       "    .dataframe tbody tr th {\n",
       "        vertical-align: top;\n",
       "    }\n",
       "\n",
       "    .dataframe thead th {\n",
       "        text-align: right;\n",
       "    }\n",
       "</style>\n",
       "<table border=\"1\" class=\"dataframe\">\n",
       "  <thead>\n",
       "    <tr style=\"text-align: right;\">\n",
       "      <th></th>\n",
       "      <th>CUST_ID</th>\n",
       "      <th>gender</th>\n",
       "      <th>DateOfBirth</th>\n",
       "      <th>State</th>\n",
       "      <th>Contact</th>\n",
       "      <th>Segment</th>\n",
       "    </tr>\n",
       "  </thead>\n",
       "  <tbody>\n",
       "    <tr>\n",
       "      <th>0</th>\n",
       "      <td>21868593</td>\n",
       "      <td>Female</td>\n",
       "      <td>12-Jan-79</td>\n",
       "      <td>VT</td>\n",
       "      <td>789-916-8172</td>\n",
       "      <td>Platinum</td>\n",
       "    </tr>\n",
       "    <tr>\n",
       "      <th>1</th>\n",
       "      <td>75740424</td>\n",
       "      <td>Female</td>\n",
       "      <td>13-Jan-70</td>\n",
       "      <td>ME</td>\n",
       "      <td>265-543-1264</td>\n",
       "      <td>Silver</td>\n",
       "    </tr>\n",
       "    <tr>\n",
       "      <th>2</th>\n",
       "      <td>30308357</td>\n",
       "      <td>Female</td>\n",
       "      <td>11-Mar-84</td>\n",
       "      <td>TN</td>\n",
       "      <td>798-631-4758</td>\n",
       "      <td>Silver</td>\n",
       "    </tr>\n",
       "    <tr>\n",
       "      <th>3</th>\n",
       "      <td>47830476</td>\n",
       "      <td>Female</td>\n",
       "      <td>01-May-86</td>\n",
       "      <td>MA</td>\n",
       "      <td>413-187-7945</td>\n",
       "      <td>Silver</td>\n",
       "    </tr>\n",
       "    <tr>\n",
       "      <th>4</th>\n",
       "      <td>19269962</td>\n",
       "      <td>Male</td>\n",
       "      <td>13-May-77</td>\n",
       "      <td>NV</td>\n",
       "      <td>956-871-8691</td>\n",
       "      <td>Gold</td>\n",
       "    </tr>\n",
       "  </tbody>\n",
       "</table>\n",
       "</div>"
      ],
      "text/plain": [
       "    CUST_ID  gender DateOfBirth State       Contact   Segment\n",
       "0  21868593  Female   12-Jan-79    VT  789-916-8172  Platinum\n",
       "1  75740424  Female   13-Jan-70    ME  265-543-1264    Silver\n",
       "2  30308357  Female   11-Mar-84    TN  798-631-4758    Silver\n",
       "3  47830476  Female   01-May-86    MA  413-187-7945    Silver\n",
       "4  19269962    Male   13-May-77    NV  956-871-8691      Gold"
      ]
     },
     "execution_count": 522,
     "metadata": {},
     "output_type": "execute_result"
    }
   ],
   "source": [
    "cust_df.head()"
   ]
  },
  {
   "cell_type": "code",
   "execution_count": 523,
   "id": "f95772d0-859c-4eef-bd32-80a54324672d",
   "metadata": {},
   "outputs": [],
   "source": [
    "merged_df = pd.merge(left = cust_df, right = claim_df, how = 'left', left_on= 'CUST_ID', right_on= 'customer_id' ).drop('customer_id',axis=1)"
   ]
  },
  {
   "cell_type": "code",
   "execution_count": 524,
   "id": "d0af7eb6-29ac-414e-948b-97645603fb9f",
   "metadata": {},
   "outputs": [
    {
     "data": {
      "text/html": [
       "<div>\n",
       "<style scoped>\n",
       "    .dataframe tbody tr th:only-of-type {\n",
       "        vertical-align: middle;\n",
       "    }\n",
       "\n",
       "    .dataframe tbody tr th {\n",
       "        vertical-align: top;\n",
       "    }\n",
       "\n",
       "    .dataframe thead th {\n",
       "        text-align: right;\n",
       "    }\n",
       "</style>\n",
       "<table border=\"1\" class=\"dataframe\">\n",
       "  <thead>\n",
       "    <tr style=\"text-align: right;\">\n",
       "      <th></th>\n",
       "      <th>CUST_ID</th>\n",
       "      <th>gender</th>\n",
       "      <th>DateOfBirth</th>\n",
       "      <th>State</th>\n",
       "      <th>Contact</th>\n",
       "      <th>Segment</th>\n",
       "      <th>claim_id</th>\n",
       "      <th>incident_cause</th>\n",
       "      <th>claim_date</th>\n",
       "      <th>claim_area</th>\n",
       "      <th>police_report</th>\n",
       "      <th>claim_type</th>\n",
       "      <th>claim_amount</th>\n",
       "      <th>total_policy_claims</th>\n",
       "      <th>fraudulent</th>\n",
       "    </tr>\n",
       "  </thead>\n",
       "  <tbody>\n",
       "    <tr>\n",
       "      <th>0</th>\n",
       "      <td>21868593</td>\n",
       "      <td>Female</td>\n",
       "      <td>12-Jan-79</td>\n",
       "      <td>VT</td>\n",
       "      <td>789-916-8172</td>\n",
       "      <td>Platinum</td>\n",
       "      <td>54004764.0</td>\n",
       "      <td>Driver error</td>\n",
       "      <td>11/27/2017</td>\n",
       "      <td>Auto</td>\n",
       "      <td>No</td>\n",
       "      <td>Material only</td>\n",
       "      <td>$2980</td>\n",
       "      <td>1.0</td>\n",
       "      <td>No</td>\n",
       "    </tr>\n",
       "    <tr>\n",
       "      <th>1</th>\n",
       "      <td>75740424</td>\n",
       "      <td>Female</td>\n",
       "      <td>13-Jan-70</td>\n",
       "      <td>ME</td>\n",
       "      <td>265-543-1264</td>\n",
       "      <td>Silver</td>\n",
       "      <td>33985796.0</td>\n",
       "      <td>Crime</td>\n",
       "      <td>10/03/2018</td>\n",
       "      <td>Home</td>\n",
       "      <td>Unknown</td>\n",
       "      <td>Material only</td>\n",
       "      <td>$2980</td>\n",
       "      <td>3.0</td>\n",
       "      <td>No</td>\n",
       "    </tr>\n",
       "    <tr>\n",
       "      <th>2</th>\n",
       "      <td>30308357</td>\n",
       "      <td>Female</td>\n",
       "      <td>11-Mar-84</td>\n",
       "      <td>TN</td>\n",
       "      <td>798-631-4758</td>\n",
       "      <td>Silver</td>\n",
       "      <td>53522022.0</td>\n",
       "      <td>Other driver error</td>\n",
       "      <td>02/02/2018</td>\n",
       "      <td>Auto</td>\n",
       "      <td>No</td>\n",
       "      <td>Material only</td>\n",
       "      <td>$3369.5</td>\n",
       "      <td>1.0</td>\n",
       "      <td>Yes</td>\n",
       "    </tr>\n",
       "    <tr>\n",
       "      <th>3</th>\n",
       "      <td>30308357</td>\n",
       "      <td>Female</td>\n",
       "      <td>11-Mar-84</td>\n",
       "      <td>TN</td>\n",
       "      <td>798-631-4758</td>\n",
       "      <td>Silver</td>\n",
       "      <td>63017412.0</td>\n",
       "      <td>Driver error</td>\n",
       "      <td>04/04/2018</td>\n",
       "      <td>Auto</td>\n",
       "      <td>No</td>\n",
       "      <td>Material only</td>\n",
       "      <td>$1950</td>\n",
       "      <td>6.0</td>\n",
       "      <td>No</td>\n",
       "    </tr>\n",
       "    <tr>\n",
       "      <th>4</th>\n",
       "      <td>47830476</td>\n",
       "      <td>Female</td>\n",
       "      <td>01-May-86</td>\n",
       "      <td>MA</td>\n",
       "      <td>413-187-7945</td>\n",
       "      <td>Silver</td>\n",
       "      <td>13015401.0</td>\n",
       "      <td>Natural causes</td>\n",
       "      <td>06/17/2018</td>\n",
       "      <td>Auto</td>\n",
       "      <td>No</td>\n",
       "      <td>Material only</td>\n",
       "      <td>$1680</td>\n",
       "      <td>1.0</td>\n",
       "      <td>No</td>\n",
       "    </tr>\n",
       "  </tbody>\n",
       "</table>\n",
       "</div>"
      ],
      "text/plain": [
       "    CUST_ID  gender DateOfBirth State       Contact   Segment    claim_id  \\\n",
       "0  21868593  Female   12-Jan-79    VT  789-916-8172  Platinum  54004764.0   \n",
       "1  75740424  Female   13-Jan-70    ME  265-543-1264    Silver  33985796.0   \n",
       "2  30308357  Female   11-Mar-84    TN  798-631-4758    Silver  53522022.0   \n",
       "3  30308357  Female   11-Mar-84    TN  798-631-4758    Silver  63017412.0   \n",
       "4  47830476  Female   01-May-86    MA  413-187-7945    Silver  13015401.0   \n",
       "\n",
       "       incident_cause  claim_date claim_area police_report     claim_type  \\\n",
       "0        Driver error  11/27/2017       Auto            No  Material only   \n",
       "1               Crime  10/03/2018       Home       Unknown  Material only   \n",
       "2  Other driver error  02/02/2018       Auto            No  Material only   \n",
       "3        Driver error  04/04/2018       Auto            No  Material only   \n",
       "4      Natural causes  06/17/2018       Auto            No  Material only   \n",
       "\n",
       "  claim_amount  total_policy_claims fraudulent  \n",
       "0        $2980                  1.0         No  \n",
       "1        $2980                  3.0         No  \n",
       "2      $3369.5                  1.0        Yes  \n",
       "3        $1950                  6.0         No  \n",
       "4        $1680                  1.0         No  "
      ]
     },
     "execution_count": 524,
     "metadata": {},
     "output_type": "execute_result"
    }
   ],
   "source": [
    "merged_df.head()"
   ]
  },
  {
   "cell_type": "code",
   "execution_count": 525,
   "id": "10274bf1-0f58-4d87-8e08-4aab4124cab6",
   "metadata": {},
   "outputs": [],
   "source": [
    "merged_df.rename(columns = {'CUST_ID': 'Customer_ID'},inplace= True)"
   ]
  },
  {
   "cell_type": "code",
   "execution_count": 526,
   "id": "54b60703-c4e0-48e8-af72-6961901fb228",
   "metadata": {},
   "outputs": [
    {
     "data": {
      "text/html": [
       "<div>\n",
       "<style scoped>\n",
       "    .dataframe tbody tr th:only-of-type {\n",
       "        vertical-align: middle;\n",
       "    }\n",
       "\n",
       "    .dataframe tbody tr th {\n",
       "        vertical-align: top;\n",
       "    }\n",
       "\n",
       "    .dataframe thead th {\n",
       "        text-align: right;\n",
       "    }\n",
       "</style>\n",
       "<table border=\"1\" class=\"dataframe\">\n",
       "  <thead>\n",
       "    <tr style=\"text-align: right;\">\n",
       "      <th></th>\n",
       "      <th>Customer_ID</th>\n",
       "      <th>gender</th>\n",
       "      <th>DateOfBirth</th>\n",
       "      <th>State</th>\n",
       "      <th>Contact</th>\n",
       "      <th>Segment</th>\n",
       "      <th>claim_id</th>\n",
       "      <th>incident_cause</th>\n",
       "      <th>claim_date</th>\n",
       "      <th>claim_area</th>\n",
       "      <th>police_report</th>\n",
       "      <th>claim_type</th>\n",
       "      <th>claim_amount</th>\n",
       "      <th>total_policy_claims</th>\n",
       "      <th>fraudulent</th>\n",
       "    </tr>\n",
       "  </thead>\n",
       "  <tbody>\n",
       "    <tr>\n",
       "      <th>0</th>\n",
       "      <td>21868593</td>\n",
       "      <td>Female</td>\n",
       "      <td>12-Jan-79</td>\n",
       "      <td>VT</td>\n",
       "      <td>789-916-8172</td>\n",
       "      <td>Platinum</td>\n",
       "      <td>54004764.0</td>\n",
       "      <td>Driver error</td>\n",
       "      <td>11/27/2017</td>\n",
       "      <td>Auto</td>\n",
       "      <td>No</td>\n",
       "      <td>Material only</td>\n",
       "      <td>$2980</td>\n",
       "      <td>1.0</td>\n",
       "      <td>No</td>\n",
       "    </tr>\n",
       "    <tr>\n",
       "      <th>1</th>\n",
       "      <td>75740424</td>\n",
       "      <td>Female</td>\n",
       "      <td>13-Jan-70</td>\n",
       "      <td>ME</td>\n",
       "      <td>265-543-1264</td>\n",
       "      <td>Silver</td>\n",
       "      <td>33985796.0</td>\n",
       "      <td>Crime</td>\n",
       "      <td>10/03/2018</td>\n",
       "      <td>Home</td>\n",
       "      <td>Unknown</td>\n",
       "      <td>Material only</td>\n",
       "      <td>$2980</td>\n",
       "      <td>3.0</td>\n",
       "      <td>No</td>\n",
       "    </tr>\n",
       "    <tr>\n",
       "      <th>2</th>\n",
       "      <td>30308357</td>\n",
       "      <td>Female</td>\n",
       "      <td>11-Mar-84</td>\n",
       "      <td>TN</td>\n",
       "      <td>798-631-4758</td>\n",
       "      <td>Silver</td>\n",
       "      <td>53522022.0</td>\n",
       "      <td>Other driver error</td>\n",
       "      <td>02/02/2018</td>\n",
       "      <td>Auto</td>\n",
       "      <td>No</td>\n",
       "      <td>Material only</td>\n",
       "      <td>$3369.5</td>\n",
       "      <td>1.0</td>\n",
       "      <td>Yes</td>\n",
       "    </tr>\n",
       "    <tr>\n",
       "      <th>3</th>\n",
       "      <td>30308357</td>\n",
       "      <td>Female</td>\n",
       "      <td>11-Mar-84</td>\n",
       "      <td>TN</td>\n",
       "      <td>798-631-4758</td>\n",
       "      <td>Silver</td>\n",
       "      <td>63017412.0</td>\n",
       "      <td>Driver error</td>\n",
       "      <td>04/04/2018</td>\n",
       "      <td>Auto</td>\n",
       "      <td>No</td>\n",
       "      <td>Material only</td>\n",
       "      <td>$1950</td>\n",
       "      <td>6.0</td>\n",
       "      <td>No</td>\n",
       "    </tr>\n",
       "    <tr>\n",
       "      <th>4</th>\n",
       "      <td>47830476</td>\n",
       "      <td>Female</td>\n",
       "      <td>01-May-86</td>\n",
       "      <td>MA</td>\n",
       "      <td>413-187-7945</td>\n",
       "      <td>Silver</td>\n",
       "      <td>13015401.0</td>\n",
       "      <td>Natural causes</td>\n",
       "      <td>06/17/2018</td>\n",
       "      <td>Auto</td>\n",
       "      <td>No</td>\n",
       "      <td>Material only</td>\n",
       "      <td>$1680</td>\n",
       "      <td>1.0</td>\n",
       "      <td>No</td>\n",
       "    </tr>\n",
       "  </tbody>\n",
       "</table>\n",
       "</div>"
      ],
      "text/plain": [
       "   Customer_ID  gender DateOfBirth State       Contact   Segment    claim_id  \\\n",
       "0     21868593  Female   12-Jan-79    VT  789-916-8172  Platinum  54004764.0   \n",
       "1     75740424  Female   13-Jan-70    ME  265-543-1264    Silver  33985796.0   \n",
       "2     30308357  Female   11-Mar-84    TN  798-631-4758    Silver  53522022.0   \n",
       "3     30308357  Female   11-Mar-84    TN  798-631-4758    Silver  63017412.0   \n",
       "4     47830476  Female   01-May-86    MA  413-187-7945    Silver  13015401.0   \n",
       "\n",
       "       incident_cause  claim_date claim_area police_report     claim_type  \\\n",
       "0        Driver error  11/27/2017       Auto            No  Material only   \n",
       "1               Crime  10/03/2018       Home       Unknown  Material only   \n",
       "2  Other driver error  02/02/2018       Auto            No  Material only   \n",
       "3        Driver error  04/04/2018       Auto            No  Material only   \n",
       "4      Natural causes  06/17/2018       Auto            No  Material only   \n",
       "\n",
       "  claim_amount  total_policy_claims fraudulent  \n",
       "0        $2980                  1.0         No  \n",
       "1        $2980                  3.0         No  \n",
       "2      $3369.5                  1.0        Yes  \n",
       "3        $1950                  6.0         No  \n",
       "4        $1680                  1.0         No  "
      ]
     },
     "execution_count": 526,
     "metadata": {},
     "output_type": "execute_result"
    }
   ],
   "source": [
    "merged_df.head()"
   ]
  },
  {
   "cell_type": "markdown",
   "id": "30e601bc-77c0-4680-a632-47d360628913",
   "metadata": {},
   "source": [
    "### 2.Perform a data audit for the datatypes and find out if there are any mismatch within the current datatypes of the columns and their business significance"
   ]
  },
  {
   "cell_type": "code",
   "execution_count": 528,
   "id": "9fda33f4-408e-4d87-9007-0477f41c03be",
   "metadata": {},
   "outputs": [
    {
     "data": {
      "text/plain": [
       "Customer_ID              int64\n",
       "gender                  object\n",
       "DateOfBirth             object\n",
       "State                   object\n",
       "Contact                 object\n",
       "Segment                 object\n",
       "claim_id               float64\n",
       "incident_cause          object\n",
       "claim_date              object\n",
       "claim_area              object\n",
       "police_report           object\n",
       "claim_type              object\n",
       "claim_amount            object\n",
       "total_policy_claims    float64\n",
       "fraudulent              object\n",
       "dtype: object"
      ]
     },
     "execution_count": 528,
     "metadata": {},
     "output_type": "execute_result"
    }
   ],
   "source": [
    "merged_df.dtypes"
   ]
  },
  {
   "cell_type": "code",
   "execution_count": 529,
   "id": "44dd18c1-8360-40cf-82bd-90fe9ab47b8a",
   "metadata": {},
   "outputs": [],
   "source": [
    "merged_df.DateOfBirth = pd.to_datetime(merged_df.DateOfBirth, format = '%d-%b-%y')"
   ]
  },
  {
   "cell_type": "code",
   "execution_count": 530,
   "id": "fdab363d-38da-40b2-9786-c8e517168381",
   "metadata": {},
   "outputs": [],
   "source": [
    "#  merged_df.DateOfBirth= merged_df.DateOfBirth.dt.strftime('%d-%b-%Y')"
   ]
  },
  {
   "cell_type": "code",
   "execution_count": 531,
   "id": "6ffd1383-125b-4ba4-8d17-b21958f49fcc",
   "metadata": {},
   "outputs": [],
   "source": [
    "merged_df.claim_date = pd.to_datetime(merged_df.claim_date, format = '%m/%d/%Y')"
   ]
  },
  {
   "cell_type": "code",
   "execution_count": 532,
   "id": "a26ee482-ba5c-4557-8b34-ed17f28cba30",
   "metadata": {},
   "outputs": [],
   "source": [
    "# merged_df.claim_date= merged_df.claim_date.dt.strftime('%d-%b-%Y')"
   ]
  },
  {
   "cell_type": "code",
   "execution_count": 533,
   "id": "73edac11-edeb-4e8a-9ec3-0c5eb6d0fd4d",
   "metadata": {},
   "outputs": [
    {
     "data": {
      "text/html": [
       "<div>\n",
       "<style scoped>\n",
       "    .dataframe tbody tr th:only-of-type {\n",
       "        vertical-align: middle;\n",
       "    }\n",
       "\n",
       "    .dataframe tbody tr th {\n",
       "        vertical-align: top;\n",
       "    }\n",
       "\n",
       "    .dataframe thead th {\n",
       "        text-align: right;\n",
       "    }\n",
       "</style>\n",
       "<table border=\"1\" class=\"dataframe\">\n",
       "  <thead>\n",
       "    <tr style=\"text-align: right;\">\n",
       "      <th></th>\n",
       "      <th>Customer_ID</th>\n",
       "      <th>gender</th>\n",
       "      <th>DateOfBirth</th>\n",
       "      <th>State</th>\n",
       "      <th>Contact</th>\n",
       "      <th>Segment</th>\n",
       "      <th>claim_id</th>\n",
       "      <th>incident_cause</th>\n",
       "      <th>claim_date</th>\n",
       "      <th>claim_area</th>\n",
       "      <th>police_report</th>\n",
       "      <th>claim_type</th>\n",
       "      <th>claim_amount</th>\n",
       "      <th>total_policy_claims</th>\n",
       "      <th>fraudulent</th>\n",
       "    </tr>\n",
       "  </thead>\n",
       "  <tbody>\n",
       "    <tr>\n",
       "      <th>0</th>\n",
       "      <td>21868593</td>\n",
       "      <td>Female</td>\n",
       "      <td>1979-01-12</td>\n",
       "      <td>VT</td>\n",
       "      <td>789-916-8172</td>\n",
       "      <td>Platinum</td>\n",
       "      <td>54004764.0</td>\n",
       "      <td>Driver error</td>\n",
       "      <td>2017-11-27</td>\n",
       "      <td>Auto</td>\n",
       "      <td>No</td>\n",
       "      <td>Material only</td>\n",
       "      <td>$2980</td>\n",
       "      <td>1.0</td>\n",
       "      <td>No</td>\n",
       "    </tr>\n",
       "    <tr>\n",
       "      <th>1</th>\n",
       "      <td>75740424</td>\n",
       "      <td>Female</td>\n",
       "      <td>1970-01-13</td>\n",
       "      <td>ME</td>\n",
       "      <td>265-543-1264</td>\n",
       "      <td>Silver</td>\n",
       "      <td>33985796.0</td>\n",
       "      <td>Crime</td>\n",
       "      <td>2018-10-03</td>\n",
       "      <td>Home</td>\n",
       "      <td>Unknown</td>\n",
       "      <td>Material only</td>\n",
       "      <td>$2980</td>\n",
       "      <td>3.0</td>\n",
       "      <td>No</td>\n",
       "    </tr>\n",
       "  </tbody>\n",
       "</table>\n",
       "</div>"
      ],
      "text/plain": [
       "   Customer_ID  gender DateOfBirth State       Contact   Segment    claim_id  \\\n",
       "0     21868593  Female  1979-01-12    VT  789-916-8172  Platinum  54004764.0   \n",
       "1     75740424  Female  1970-01-13    ME  265-543-1264    Silver  33985796.0   \n",
       "\n",
       "  incident_cause claim_date claim_area police_report     claim_type  \\\n",
       "0   Driver error 2017-11-27       Auto            No  Material only   \n",
       "1          Crime 2018-10-03       Home       Unknown  Material only   \n",
       "\n",
       "  claim_amount  total_policy_claims fraudulent  \n",
       "0        $2980                  1.0         No  \n",
       "1        $2980                  3.0         No  "
      ]
     },
     "execution_count": 533,
     "metadata": {},
     "output_type": "execute_result"
    }
   ],
   "source": [
    "merged_df.head(2)"
   ]
  },
  {
   "cell_type": "code",
   "execution_count": 534,
   "id": "20f06e80-0fdf-40b9-bfa3-c5c294807e10",
   "metadata": {},
   "outputs": [
    {
     "data": {
      "text/plain": [
       "Customer_ID                     int64\n",
       "gender                         object\n",
       "DateOfBirth            datetime64[ns]\n",
       "State                          object\n",
       "Contact                        object\n",
       "Segment                        object\n",
       "claim_id                      float64\n",
       "incident_cause                 object\n",
       "claim_date             datetime64[ns]\n",
       "claim_area                     object\n",
       "police_report                  object\n",
       "claim_type                     object\n",
       "claim_amount                   object\n",
       "total_policy_claims           float64\n",
       "fraudulent                     object\n",
       "dtype: object"
      ]
     },
     "execution_count": 534,
     "metadata": {},
     "output_type": "execute_result"
    }
   ],
   "source": [
    "merged_df.dtypes"
   ]
  },
  {
   "cell_type": "markdown",
   "id": "2edade1a-8575-4518-81a6-6b45c5edf72f",
   "metadata": {},
   "source": [
    "### 3. Convert the column claim_amount to numeric. Use the appropriate modules/attributes to remove the $ sign."
   ]
  },
  {
   "cell_type": "code",
   "execution_count": 536,
   "id": "1c05adf6-5b50-44b8-a8e4-e978f33247e6",
   "metadata": {},
   "outputs": [],
   "source": [
    "merged_df['claim_amount'] = merged_df['claim_amount'].str.replace('$','')"
   ]
  },
  {
   "cell_type": "code",
   "execution_count": 537,
   "id": "f7853612-e22b-4054-9d47-25308342e494",
   "metadata": {},
   "outputs": [],
   "source": [
    "merged_df['claim_amount']= merged_df['claim_amount'].astype(float)"
   ]
  },
  {
   "cell_type": "code",
   "execution_count": 538,
   "id": "1c6ae9ee-4b15-4592-98ee-0f5520cae02b",
   "metadata": {},
   "outputs": [
    {
     "data": {
      "text/plain": [
       "Customer_ID                     int64\n",
       "gender                         object\n",
       "DateOfBirth            datetime64[ns]\n",
       "State                          object\n",
       "Contact                        object\n",
       "Segment                        object\n",
       "claim_id                      float64\n",
       "incident_cause                 object\n",
       "claim_date             datetime64[ns]\n",
       "claim_area                     object\n",
       "police_report                  object\n",
       "claim_type                     object\n",
       "claim_amount                  float64\n",
       "total_policy_claims           float64\n",
       "fraudulent                     object\n",
       "dtype: object"
      ]
     },
     "execution_count": 538,
     "metadata": {},
     "output_type": "execute_result"
    }
   ],
   "source": [
    "merged_df.dtypes"
   ]
  },
  {
   "cell_type": "code",
   "execution_count": 539,
   "id": "4361d7c4-83ec-4ccf-83fd-43dac7b040be",
   "metadata": {},
   "outputs": [
    {
     "data": {
      "text/plain": [
       "0    2980.0\n",
       "1    2980.0\n",
       "Name: claim_amount, dtype: float64"
      ]
     },
     "execution_count": 539,
     "metadata": {},
     "output_type": "execute_result"
    }
   ],
   "source": [
    "merged_df.claim_amount.head(2)"
   ]
  },
  {
   "cell_type": "markdown",
   "id": "80f18db1-6b6c-463f-8c2b-06334096f3cc",
   "metadata": {},
   "source": [
    "### 4. Of all the injury claims, some of them have gone unreported with the police. Create an alert flag (1,0) for all such claims."
   ]
  },
  {
   "cell_type": "code",
   "execution_count": 541,
   "id": "fbe24279-a8a9-4007-ad45-fed246c28c4f",
   "metadata": {},
   "outputs": [
    {
     "data": {
      "text/html": [
       "<div>\n",
       "<style scoped>\n",
       "    .dataframe tbody tr th:only-of-type {\n",
       "        vertical-align: middle;\n",
       "    }\n",
       "\n",
       "    .dataframe tbody tr th {\n",
       "        vertical-align: top;\n",
       "    }\n",
       "\n",
       "    .dataframe thead th {\n",
       "        text-align: right;\n",
       "    }\n",
       "</style>\n",
       "<table border=\"1\" class=\"dataframe\">\n",
       "  <thead>\n",
       "    <tr style=\"text-align: right;\">\n",
       "      <th></th>\n",
       "      <th>Customer_ID</th>\n",
       "      <th>gender</th>\n",
       "      <th>DateOfBirth</th>\n",
       "      <th>State</th>\n",
       "      <th>Contact</th>\n",
       "      <th>Segment</th>\n",
       "      <th>claim_id</th>\n",
       "      <th>incident_cause</th>\n",
       "      <th>claim_date</th>\n",
       "      <th>claim_area</th>\n",
       "      <th>police_report</th>\n",
       "      <th>claim_type</th>\n",
       "      <th>claim_amount</th>\n",
       "      <th>total_policy_claims</th>\n",
       "      <th>fraudulent</th>\n",
       "    </tr>\n",
       "  </thead>\n",
       "  <tbody>\n",
       "    <tr>\n",
       "      <th>0</th>\n",
       "      <td>21868593</td>\n",
       "      <td>Female</td>\n",
       "      <td>1979-01-12</td>\n",
       "      <td>VT</td>\n",
       "      <td>789-916-8172</td>\n",
       "      <td>Platinum</td>\n",
       "      <td>54004764.0</td>\n",
       "      <td>Driver error</td>\n",
       "      <td>2017-11-27</td>\n",
       "      <td>Auto</td>\n",
       "      <td>No</td>\n",
       "      <td>Material only</td>\n",
       "      <td>2980.0</td>\n",
       "      <td>1.0</td>\n",
       "      <td>No</td>\n",
       "    </tr>\n",
       "    <tr>\n",
       "      <th>1</th>\n",
       "      <td>75740424</td>\n",
       "      <td>Female</td>\n",
       "      <td>1970-01-13</td>\n",
       "      <td>ME</td>\n",
       "      <td>265-543-1264</td>\n",
       "      <td>Silver</td>\n",
       "      <td>33985796.0</td>\n",
       "      <td>Crime</td>\n",
       "      <td>2018-10-03</td>\n",
       "      <td>Home</td>\n",
       "      <td>Unknown</td>\n",
       "      <td>Material only</td>\n",
       "      <td>2980.0</td>\n",
       "      <td>3.0</td>\n",
       "      <td>No</td>\n",
       "    </tr>\n",
       "    <tr>\n",
       "      <th>2</th>\n",
       "      <td>30308357</td>\n",
       "      <td>Female</td>\n",
       "      <td>1984-03-11</td>\n",
       "      <td>TN</td>\n",
       "      <td>798-631-4758</td>\n",
       "      <td>Silver</td>\n",
       "      <td>53522022.0</td>\n",
       "      <td>Other driver error</td>\n",
       "      <td>2018-02-02</td>\n",
       "      <td>Auto</td>\n",
       "      <td>No</td>\n",
       "      <td>Material only</td>\n",
       "      <td>3369.5</td>\n",
       "      <td>1.0</td>\n",
       "      <td>Yes</td>\n",
       "    </tr>\n",
       "    <tr>\n",
       "      <th>3</th>\n",
       "      <td>30308357</td>\n",
       "      <td>Female</td>\n",
       "      <td>1984-03-11</td>\n",
       "      <td>TN</td>\n",
       "      <td>798-631-4758</td>\n",
       "      <td>Silver</td>\n",
       "      <td>63017412.0</td>\n",
       "      <td>Driver error</td>\n",
       "      <td>2018-04-04</td>\n",
       "      <td>Auto</td>\n",
       "      <td>No</td>\n",
       "      <td>Material only</td>\n",
       "      <td>1950.0</td>\n",
       "      <td>6.0</td>\n",
       "      <td>No</td>\n",
       "    </tr>\n",
       "    <tr>\n",
       "      <th>4</th>\n",
       "      <td>47830476</td>\n",
       "      <td>Female</td>\n",
       "      <td>1986-05-01</td>\n",
       "      <td>MA</td>\n",
       "      <td>413-187-7945</td>\n",
       "      <td>Silver</td>\n",
       "      <td>13015401.0</td>\n",
       "      <td>Natural causes</td>\n",
       "      <td>2018-06-17</td>\n",
       "      <td>Auto</td>\n",
       "      <td>No</td>\n",
       "      <td>Material only</td>\n",
       "      <td>1680.0</td>\n",
       "      <td>1.0</td>\n",
       "      <td>No</td>\n",
       "    </tr>\n",
       "    <tr>\n",
       "      <th>...</th>\n",
       "      <td>...</td>\n",
       "      <td>...</td>\n",
       "      <td>...</td>\n",
       "      <td>...</td>\n",
       "      <td>...</td>\n",
       "      <td>...</td>\n",
       "      <td>...</td>\n",
       "      <td>...</td>\n",
       "      <td>...</td>\n",
       "      <td>...</td>\n",
       "      <td>...</td>\n",
       "      <td>...</td>\n",
       "      <td>...</td>\n",
       "      <td>...</td>\n",
       "      <td>...</td>\n",
       "    </tr>\n",
       "    <tr>\n",
       "      <th>1087</th>\n",
       "      <td>79539873</td>\n",
       "      <td>Female</td>\n",
       "      <td>1981-03-15</td>\n",
       "      <td>ND</td>\n",
       "      <td>459-425-4319</td>\n",
       "      <td>Platinum</td>\n",
       "      <td>62020796.0</td>\n",
       "      <td>Other driver error</td>\n",
       "      <td>2018-09-06</td>\n",
       "      <td>Auto</td>\n",
       "      <td>Yes</td>\n",
       "      <td>Material only</td>\n",
       "      <td>1770.0</td>\n",
       "      <td>1.0</td>\n",
       "      <td>No</td>\n",
       "    </tr>\n",
       "    <tr>\n",
       "      <th>1088</th>\n",
       "      <td>42364152</td>\n",
       "      <td>Female</td>\n",
       "      <td>1996-07-07</td>\n",
       "      <td>ID</td>\n",
       "      <td>529-462-1635</td>\n",
       "      <td>Silver</td>\n",
       "      <td>63269067.0</td>\n",
       "      <td>Other causes</td>\n",
       "      <td>2017-05-09</td>\n",
       "      <td>Home</td>\n",
       "      <td>No</td>\n",
       "      <td>Material only</td>\n",
       "      <td>2800.0</td>\n",
       "      <td>1.0</td>\n",
       "      <td>No</td>\n",
       "    </tr>\n",
       "    <tr>\n",
       "      <th>1089</th>\n",
       "      <td>19888166</td>\n",
       "      <td>Male</td>\n",
       "      <td>1990-04-11</td>\n",
       "      <td>WI</td>\n",
       "      <td>712-651-9613</td>\n",
       "      <td>Gold</td>\n",
       "      <td>22690595.0</td>\n",
       "      <td>Other driver error</td>\n",
       "      <td>2017-05-15</td>\n",
       "      <td>Auto</td>\n",
       "      <td>Yes</td>\n",
       "      <td>Injury only</td>\n",
       "      <td>33080.0</td>\n",
       "      <td>2.0</td>\n",
       "      <td>No</td>\n",
       "    </tr>\n",
       "    <tr>\n",
       "      <th>1090</th>\n",
       "      <td>11256802</td>\n",
       "      <td>Female</td>\n",
       "      <td>2064-10-22</td>\n",
       "      <td>LA</td>\n",
       "      <td>469-345-5617</td>\n",
       "      <td>Silver</td>\n",
       "      <td>12376894.0</td>\n",
       "      <td>Other driver error</td>\n",
       "      <td>2017-04-18</td>\n",
       "      <td>Auto</td>\n",
       "      <td>No</td>\n",
       "      <td>Material only</td>\n",
       "      <td>2840.0</td>\n",
       "      <td>4.0</td>\n",
       "      <td>No</td>\n",
       "    </tr>\n",
       "    <tr>\n",
       "      <th>1091</th>\n",
       "      <td>61575264</td>\n",
       "      <td>Male</td>\n",
       "      <td>1995-07-12</td>\n",
       "      <td>WY</td>\n",
       "      <td>182-385-1392</td>\n",
       "      <td>Gold</td>\n",
       "      <td>63226031.0</td>\n",
       "      <td>Natural causes</td>\n",
       "      <td>2017-03-16</td>\n",
       "      <td>Auto</td>\n",
       "      <td>No</td>\n",
       "      <td>Material only</td>\n",
       "      <td>1490.0</td>\n",
       "      <td>1.0</td>\n",
       "      <td>No</td>\n",
       "    </tr>\n",
       "  </tbody>\n",
       "</table>\n",
       "<p>1092 rows × 15 columns</p>\n",
       "</div>"
      ],
      "text/plain": [
       "      Customer_ID  gender DateOfBirth State       Contact   Segment  \\\n",
       "0        21868593  Female  1979-01-12    VT  789-916-8172  Platinum   \n",
       "1        75740424  Female  1970-01-13    ME  265-543-1264    Silver   \n",
       "2        30308357  Female  1984-03-11    TN  798-631-4758    Silver   \n",
       "3        30308357  Female  1984-03-11    TN  798-631-4758    Silver   \n",
       "4        47830476  Female  1986-05-01    MA  413-187-7945    Silver   \n",
       "...           ...     ...         ...   ...           ...       ...   \n",
       "1087     79539873  Female  1981-03-15    ND  459-425-4319  Platinum   \n",
       "1088     42364152  Female  1996-07-07    ID  529-462-1635    Silver   \n",
       "1089     19888166    Male  1990-04-11    WI  712-651-9613      Gold   \n",
       "1090     11256802  Female  2064-10-22    LA  469-345-5617    Silver   \n",
       "1091     61575264    Male  1995-07-12    WY  182-385-1392      Gold   \n",
       "\n",
       "        claim_id      incident_cause claim_date claim_area police_report  \\\n",
       "0     54004764.0        Driver error 2017-11-27       Auto            No   \n",
       "1     33985796.0               Crime 2018-10-03       Home       Unknown   \n",
       "2     53522022.0  Other driver error 2018-02-02       Auto            No   \n",
       "3     63017412.0        Driver error 2018-04-04       Auto            No   \n",
       "4     13015401.0      Natural causes 2018-06-17       Auto            No   \n",
       "...          ...                 ...        ...        ...           ...   \n",
       "1087  62020796.0  Other driver error 2018-09-06       Auto           Yes   \n",
       "1088  63269067.0        Other causes 2017-05-09       Home            No   \n",
       "1089  22690595.0  Other driver error 2017-05-15       Auto           Yes   \n",
       "1090  12376894.0  Other driver error 2017-04-18       Auto            No   \n",
       "1091  63226031.0      Natural causes 2017-03-16       Auto            No   \n",
       "\n",
       "         claim_type  claim_amount  total_policy_claims fraudulent  \n",
       "0     Material only        2980.0                  1.0         No  \n",
       "1     Material only        2980.0                  3.0         No  \n",
       "2     Material only        3369.5                  1.0        Yes  \n",
       "3     Material only        1950.0                  6.0         No  \n",
       "4     Material only        1680.0                  1.0         No  \n",
       "...             ...           ...                  ...        ...  \n",
       "1087  Material only        1770.0                  1.0         No  \n",
       "1088  Material only        2800.0                  1.0         No  \n",
       "1089    Injury only       33080.0                  2.0         No  \n",
       "1090  Material only        2840.0                  4.0         No  \n",
       "1091  Material only        1490.0                  1.0         No  \n",
       "\n",
       "[1092 rows x 15 columns]"
      ]
     },
     "execution_count": 541,
     "metadata": {},
     "output_type": "execute_result"
    }
   ],
   "source": [
    "merged_df"
   ]
  },
  {
   "cell_type": "code",
   "execution_count": 542,
   "id": "773f70d8-d9b3-4918-8cd0-77af89b6cb7f",
   "metadata": {},
   "outputs": [
    {
     "data": {
      "text/plain": [
       "array(['Material only', 'Injury only', 'Material and injury', nan],\n",
       "      dtype=object)"
      ]
     },
     "execution_count": 542,
     "metadata": {},
     "output_type": "execute_result"
    }
   ],
   "source": [
    "merged_df.claim_type.unique()"
   ]
  },
  {
   "cell_type": "code",
   "execution_count": 543,
   "id": "a26bb07e-078f-424d-be9d-5e82de274694",
   "metadata": {},
   "outputs": [],
   "source": [
    "merged_df['alert_flag']= np.where((merged_df['claim_type'].isin(['Injury only', 'Material and injury'])) & (merged_df['police_report'].isin(['No', 'Unknown', np.nan])),1,0)"
   ]
  },
  {
   "cell_type": "code",
   "execution_count": 544,
   "id": "56b02054-7c4a-4e78-aa6c-9ce00b3cf992",
   "metadata": {},
   "outputs": [
    {
     "data": {
      "text/html": [
       "<div>\n",
       "<style scoped>\n",
       "    .dataframe tbody tr th:only-of-type {\n",
       "        vertical-align: middle;\n",
       "    }\n",
       "\n",
       "    .dataframe tbody tr th {\n",
       "        vertical-align: top;\n",
       "    }\n",
       "\n",
       "    .dataframe thead th {\n",
       "        text-align: right;\n",
       "    }\n",
       "</style>\n",
       "<table border=\"1\" class=\"dataframe\">\n",
       "  <thead>\n",
       "    <tr style=\"text-align: right;\">\n",
       "      <th></th>\n",
       "      <th>Customer_ID</th>\n",
       "      <th>gender</th>\n",
       "      <th>DateOfBirth</th>\n",
       "      <th>State</th>\n",
       "      <th>Contact</th>\n",
       "      <th>Segment</th>\n",
       "      <th>claim_id</th>\n",
       "      <th>incident_cause</th>\n",
       "      <th>claim_date</th>\n",
       "      <th>claim_area</th>\n",
       "      <th>police_report</th>\n",
       "      <th>claim_type</th>\n",
       "      <th>claim_amount</th>\n",
       "      <th>total_policy_claims</th>\n",
       "      <th>fraudulent</th>\n",
       "      <th>alert_flag</th>\n",
       "    </tr>\n",
       "  </thead>\n",
       "  <tbody>\n",
       "    <tr>\n",
       "      <th>0</th>\n",
       "      <td>21868593</td>\n",
       "      <td>Female</td>\n",
       "      <td>1979-01-12</td>\n",
       "      <td>VT</td>\n",
       "      <td>789-916-8172</td>\n",
       "      <td>Platinum</td>\n",
       "      <td>54004764.0</td>\n",
       "      <td>Driver error</td>\n",
       "      <td>2017-11-27</td>\n",
       "      <td>Auto</td>\n",
       "      <td>No</td>\n",
       "      <td>Material only</td>\n",
       "      <td>2980.0</td>\n",
       "      <td>1.0</td>\n",
       "      <td>No</td>\n",
       "      <td>0</td>\n",
       "    </tr>\n",
       "    <tr>\n",
       "      <th>1</th>\n",
       "      <td>75740424</td>\n",
       "      <td>Female</td>\n",
       "      <td>1970-01-13</td>\n",
       "      <td>ME</td>\n",
       "      <td>265-543-1264</td>\n",
       "      <td>Silver</td>\n",
       "      <td>33985796.0</td>\n",
       "      <td>Crime</td>\n",
       "      <td>2018-10-03</td>\n",
       "      <td>Home</td>\n",
       "      <td>Unknown</td>\n",
       "      <td>Material only</td>\n",
       "      <td>2980.0</td>\n",
       "      <td>3.0</td>\n",
       "      <td>No</td>\n",
       "      <td>0</td>\n",
       "    </tr>\n",
       "    <tr>\n",
       "      <th>2</th>\n",
       "      <td>30308357</td>\n",
       "      <td>Female</td>\n",
       "      <td>1984-03-11</td>\n",
       "      <td>TN</td>\n",
       "      <td>798-631-4758</td>\n",
       "      <td>Silver</td>\n",
       "      <td>53522022.0</td>\n",
       "      <td>Other driver error</td>\n",
       "      <td>2018-02-02</td>\n",
       "      <td>Auto</td>\n",
       "      <td>No</td>\n",
       "      <td>Material only</td>\n",
       "      <td>3369.5</td>\n",
       "      <td>1.0</td>\n",
       "      <td>Yes</td>\n",
       "      <td>0</td>\n",
       "    </tr>\n",
       "    <tr>\n",
       "      <th>3</th>\n",
       "      <td>30308357</td>\n",
       "      <td>Female</td>\n",
       "      <td>1984-03-11</td>\n",
       "      <td>TN</td>\n",
       "      <td>798-631-4758</td>\n",
       "      <td>Silver</td>\n",
       "      <td>63017412.0</td>\n",
       "      <td>Driver error</td>\n",
       "      <td>2018-04-04</td>\n",
       "      <td>Auto</td>\n",
       "      <td>No</td>\n",
       "      <td>Material only</td>\n",
       "      <td>1950.0</td>\n",
       "      <td>6.0</td>\n",
       "      <td>No</td>\n",
       "      <td>0</td>\n",
       "    </tr>\n",
       "    <tr>\n",
       "      <th>4</th>\n",
       "      <td>47830476</td>\n",
       "      <td>Female</td>\n",
       "      <td>1986-05-01</td>\n",
       "      <td>MA</td>\n",
       "      <td>413-187-7945</td>\n",
       "      <td>Silver</td>\n",
       "      <td>13015401.0</td>\n",
       "      <td>Natural causes</td>\n",
       "      <td>2018-06-17</td>\n",
       "      <td>Auto</td>\n",
       "      <td>No</td>\n",
       "      <td>Material only</td>\n",
       "      <td>1680.0</td>\n",
       "      <td>1.0</td>\n",
       "      <td>No</td>\n",
       "      <td>0</td>\n",
       "    </tr>\n",
       "    <tr>\n",
       "      <th>...</th>\n",
       "      <td>...</td>\n",
       "      <td>...</td>\n",
       "      <td>...</td>\n",
       "      <td>...</td>\n",
       "      <td>...</td>\n",
       "      <td>...</td>\n",
       "      <td>...</td>\n",
       "      <td>...</td>\n",
       "      <td>...</td>\n",
       "      <td>...</td>\n",
       "      <td>...</td>\n",
       "      <td>...</td>\n",
       "      <td>...</td>\n",
       "      <td>...</td>\n",
       "      <td>...</td>\n",
       "      <td>...</td>\n",
       "    </tr>\n",
       "    <tr>\n",
       "      <th>1087</th>\n",
       "      <td>79539873</td>\n",
       "      <td>Female</td>\n",
       "      <td>1981-03-15</td>\n",
       "      <td>ND</td>\n",
       "      <td>459-425-4319</td>\n",
       "      <td>Platinum</td>\n",
       "      <td>62020796.0</td>\n",
       "      <td>Other driver error</td>\n",
       "      <td>2018-09-06</td>\n",
       "      <td>Auto</td>\n",
       "      <td>Yes</td>\n",
       "      <td>Material only</td>\n",
       "      <td>1770.0</td>\n",
       "      <td>1.0</td>\n",
       "      <td>No</td>\n",
       "      <td>0</td>\n",
       "    </tr>\n",
       "    <tr>\n",
       "      <th>1088</th>\n",
       "      <td>42364152</td>\n",
       "      <td>Female</td>\n",
       "      <td>1996-07-07</td>\n",
       "      <td>ID</td>\n",
       "      <td>529-462-1635</td>\n",
       "      <td>Silver</td>\n",
       "      <td>63269067.0</td>\n",
       "      <td>Other causes</td>\n",
       "      <td>2017-05-09</td>\n",
       "      <td>Home</td>\n",
       "      <td>No</td>\n",
       "      <td>Material only</td>\n",
       "      <td>2800.0</td>\n",
       "      <td>1.0</td>\n",
       "      <td>No</td>\n",
       "      <td>0</td>\n",
       "    </tr>\n",
       "    <tr>\n",
       "      <th>1089</th>\n",
       "      <td>19888166</td>\n",
       "      <td>Male</td>\n",
       "      <td>1990-04-11</td>\n",
       "      <td>WI</td>\n",
       "      <td>712-651-9613</td>\n",
       "      <td>Gold</td>\n",
       "      <td>22690595.0</td>\n",
       "      <td>Other driver error</td>\n",
       "      <td>2017-05-15</td>\n",
       "      <td>Auto</td>\n",
       "      <td>Yes</td>\n",
       "      <td>Injury only</td>\n",
       "      <td>33080.0</td>\n",
       "      <td>2.0</td>\n",
       "      <td>No</td>\n",
       "      <td>0</td>\n",
       "    </tr>\n",
       "    <tr>\n",
       "      <th>1090</th>\n",
       "      <td>11256802</td>\n",
       "      <td>Female</td>\n",
       "      <td>2064-10-22</td>\n",
       "      <td>LA</td>\n",
       "      <td>469-345-5617</td>\n",
       "      <td>Silver</td>\n",
       "      <td>12376894.0</td>\n",
       "      <td>Other driver error</td>\n",
       "      <td>2017-04-18</td>\n",
       "      <td>Auto</td>\n",
       "      <td>No</td>\n",
       "      <td>Material only</td>\n",
       "      <td>2840.0</td>\n",
       "      <td>4.0</td>\n",
       "      <td>No</td>\n",
       "      <td>0</td>\n",
       "    </tr>\n",
       "    <tr>\n",
       "      <th>1091</th>\n",
       "      <td>61575264</td>\n",
       "      <td>Male</td>\n",
       "      <td>1995-07-12</td>\n",
       "      <td>WY</td>\n",
       "      <td>182-385-1392</td>\n",
       "      <td>Gold</td>\n",
       "      <td>63226031.0</td>\n",
       "      <td>Natural causes</td>\n",
       "      <td>2017-03-16</td>\n",
       "      <td>Auto</td>\n",
       "      <td>No</td>\n",
       "      <td>Material only</td>\n",
       "      <td>1490.0</td>\n",
       "      <td>1.0</td>\n",
       "      <td>No</td>\n",
       "      <td>0</td>\n",
       "    </tr>\n",
       "  </tbody>\n",
       "</table>\n",
       "<p>1092 rows × 16 columns</p>\n",
       "</div>"
      ],
      "text/plain": [
       "      Customer_ID  gender DateOfBirth State       Contact   Segment  \\\n",
       "0        21868593  Female  1979-01-12    VT  789-916-8172  Platinum   \n",
       "1        75740424  Female  1970-01-13    ME  265-543-1264    Silver   \n",
       "2        30308357  Female  1984-03-11    TN  798-631-4758    Silver   \n",
       "3        30308357  Female  1984-03-11    TN  798-631-4758    Silver   \n",
       "4        47830476  Female  1986-05-01    MA  413-187-7945    Silver   \n",
       "...           ...     ...         ...   ...           ...       ...   \n",
       "1087     79539873  Female  1981-03-15    ND  459-425-4319  Platinum   \n",
       "1088     42364152  Female  1996-07-07    ID  529-462-1635    Silver   \n",
       "1089     19888166    Male  1990-04-11    WI  712-651-9613      Gold   \n",
       "1090     11256802  Female  2064-10-22    LA  469-345-5617    Silver   \n",
       "1091     61575264    Male  1995-07-12    WY  182-385-1392      Gold   \n",
       "\n",
       "        claim_id      incident_cause claim_date claim_area police_report  \\\n",
       "0     54004764.0        Driver error 2017-11-27       Auto            No   \n",
       "1     33985796.0               Crime 2018-10-03       Home       Unknown   \n",
       "2     53522022.0  Other driver error 2018-02-02       Auto            No   \n",
       "3     63017412.0        Driver error 2018-04-04       Auto            No   \n",
       "4     13015401.0      Natural causes 2018-06-17       Auto            No   \n",
       "...          ...                 ...        ...        ...           ...   \n",
       "1087  62020796.0  Other driver error 2018-09-06       Auto           Yes   \n",
       "1088  63269067.0        Other causes 2017-05-09       Home            No   \n",
       "1089  22690595.0  Other driver error 2017-05-15       Auto           Yes   \n",
       "1090  12376894.0  Other driver error 2017-04-18       Auto            No   \n",
       "1091  63226031.0      Natural causes 2017-03-16       Auto            No   \n",
       "\n",
       "         claim_type  claim_amount  total_policy_claims fraudulent  alert_flag  \n",
       "0     Material only        2980.0                  1.0         No           0  \n",
       "1     Material only        2980.0                  3.0         No           0  \n",
       "2     Material only        3369.5                  1.0        Yes           0  \n",
       "3     Material only        1950.0                  6.0         No           0  \n",
       "4     Material only        1680.0                  1.0         No           0  \n",
       "...             ...           ...                  ...        ...         ...  \n",
       "1087  Material only        1770.0                  1.0         No           0  \n",
       "1088  Material only        2800.0                  1.0         No           0  \n",
       "1089    Injury only       33080.0                  2.0         No           0  \n",
       "1090  Material only        2840.0                  4.0         No           0  \n",
       "1091  Material only        1490.0                  1.0         No           0  \n",
       "\n",
       "[1092 rows x 16 columns]"
      ]
     },
     "execution_count": 544,
     "metadata": {},
     "output_type": "execute_result"
    }
   ],
   "source": [
    "merged_df"
   ]
  },
  {
   "cell_type": "markdown",
   "id": "b3d13c41-18c1-44d4-bdb4-d25a1553dcbb",
   "metadata": {},
   "source": [
    "### 5. One customer can claim for insurance more than once and in each claim,multiple categories of claims can be involved. However, customer ID should remain unique.Retain the most recent observation and delete any duplicated records in the data based on the customer ID column."
   ]
  },
  {
   "cell_type": "code",
   "execution_count": 546,
   "id": "1eac8c1a-247c-4f21-90eb-eb866de7f360",
   "metadata": {},
   "outputs": [
    {
     "data": {
      "text/html": [
       "<div>\n",
       "<style scoped>\n",
       "    .dataframe tbody tr th:only-of-type {\n",
       "        vertical-align: middle;\n",
       "    }\n",
       "\n",
       "    .dataframe tbody tr th {\n",
       "        vertical-align: top;\n",
       "    }\n",
       "\n",
       "    .dataframe thead th {\n",
       "        text-align: right;\n",
       "    }\n",
       "</style>\n",
       "<table border=\"1\" class=\"dataframe\">\n",
       "  <thead>\n",
       "    <tr style=\"text-align: right;\">\n",
       "      <th></th>\n",
       "      <th>Customer_ID</th>\n",
       "      <th>gender</th>\n",
       "      <th>DateOfBirth</th>\n",
       "      <th>State</th>\n",
       "      <th>Contact</th>\n",
       "      <th>Segment</th>\n",
       "      <th>claim_id</th>\n",
       "      <th>incident_cause</th>\n",
       "      <th>claim_date</th>\n",
       "      <th>claim_area</th>\n",
       "      <th>police_report</th>\n",
       "      <th>claim_type</th>\n",
       "      <th>claim_amount</th>\n",
       "      <th>total_policy_claims</th>\n",
       "      <th>fraudulent</th>\n",
       "      <th>alert_flag</th>\n",
       "    </tr>\n",
       "  </thead>\n",
       "  <tbody>\n",
       "    <tr>\n",
       "      <th>0</th>\n",
       "      <td>93915431</td>\n",
       "      <td>Male</td>\n",
       "      <td>2067-09-08</td>\n",
       "      <td>ME</td>\n",
       "      <td>134-785-1687</td>\n",
       "      <td>Gold</td>\n",
       "      <td>99775483.0</td>\n",
       "      <td>Other causes</td>\n",
       "      <td>2018-10-30</td>\n",
       "      <td>Auto</td>\n",
       "      <td>No</td>\n",
       "      <td>Material and injury</td>\n",
       "      <td>42124.5</td>\n",
       "      <td>1.0</td>\n",
       "      <td>Yes</td>\n",
       "      <td>1</td>\n",
       "    </tr>\n",
       "    <tr>\n",
       "      <th>1</th>\n",
       "      <td>38011078</td>\n",
       "      <td>Female</td>\n",
       "      <td>1976-05-20</td>\n",
       "      <td>NE</td>\n",
       "      <td>271-123-1475</td>\n",
       "      <td>Gold</td>\n",
       "      <td>98795403.0</td>\n",
       "      <td>Crime</td>\n",
       "      <td>2018-10-30</td>\n",
       "      <td>Auto</td>\n",
       "      <td>Unknown</td>\n",
       "      <td>Material only</td>\n",
       "      <td>1940.0</td>\n",
       "      <td>1.0</td>\n",
       "      <td>No</td>\n",
       "      <td>0</td>\n",
       "    </tr>\n",
       "    <tr>\n",
       "      <th>2</th>\n",
       "      <td>58451506</td>\n",
       "      <td>Male</td>\n",
       "      <td>2068-04-22</td>\n",
       "      <td>FL</td>\n",
       "      <td>673-574-7823</td>\n",
       "      <td>Gold</td>\n",
       "      <td>43042986.0</td>\n",
       "      <td>Natural causes</td>\n",
       "      <td>2018-10-30</td>\n",
       "      <td>Auto</td>\n",
       "      <td>No</td>\n",
       "      <td>Material only</td>\n",
       "      <td>2420.0</td>\n",
       "      <td>1.0</td>\n",
       "      <td>No</td>\n",
       "      <td>0</td>\n",
       "    </tr>\n",
       "    <tr>\n",
       "      <th>3</th>\n",
       "      <td>46710738</td>\n",
       "      <td>Male</td>\n",
       "      <td>1977-04-28</td>\n",
       "      <td>MO</td>\n",
       "      <td>962-834-9361</td>\n",
       "      <td>Gold</td>\n",
       "      <td>74761374.0</td>\n",
       "      <td>Driver error</td>\n",
       "      <td>2018-10-30</td>\n",
       "      <td>Auto</td>\n",
       "      <td>No</td>\n",
       "      <td>Material only</td>\n",
       "      <td>1830.0</td>\n",
       "      <td>1.0</td>\n",
       "      <td>No</td>\n",
       "      <td>0</td>\n",
       "    </tr>\n",
       "    <tr>\n",
       "      <th>4</th>\n",
       "      <td>77510822</td>\n",
       "      <td>Female</td>\n",
       "      <td>1986-03-18</td>\n",
       "      <td>AK</td>\n",
       "      <td>436-934-7156</td>\n",
       "      <td>Silver</td>\n",
       "      <td>87329176.0</td>\n",
       "      <td>Other driver error</td>\n",
       "      <td>2018-10-30</td>\n",
       "      <td>Auto</td>\n",
       "      <td>Unknown</td>\n",
       "      <td>Material only</td>\n",
       "      <td>NaN</td>\n",
       "      <td>2.0</td>\n",
       "      <td>No</td>\n",
       "      <td>0</td>\n",
       "    </tr>\n",
       "    <tr>\n",
       "      <th>...</th>\n",
       "      <td>...</td>\n",
       "      <td>...</td>\n",
       "      <td>...</td>\n",
       "      <td>...</td>\n",
       "      <td>...</td>\n",
       "      <td>...</td>\n",
       "      <td>...</td>\n",
       "      <td>...</td>\n",
       "      <td>...</td>\n",
       "      <td>...</td>\n",
       "      <td>...</td>\n",
       "      <td>...</td>\n",
       "      <td>...</td>\n",
       "      <td>...</td>\n",
       "      <td>...</td>\n",
       "      <td>...</td>\n",
       "    </tr>\n",
       "    <tr>\n",
       "      <th>1080</th>\n",
       "      <td>74888099</td>\n",
       "      <td>Male</td>\n",
       "      <td>1980-07-22</td>\n",
       "      <td>CO</td>\n",
       "      <td>125-613-7698</td>\n",
       "      <td>Platinum</td>\n",
       "      <td>NaN</td>\n",
       "      <td>NaN</td>\n",
       "      <td>NaT</td>\n",
       "      <td>NaN</td>\n",
       "      <td>NaN</td>\n",
       "      <td>NaN</td>\n",
       "      <td>NaN</td>\n",
       "      <td>NaN</td>\n",
       "      <td>NaN</td>\n",
       "      <td>0</td>\n",
       "    </tr>\n",
       "    <tr>\n",
       "      <th>1081</th>\n",
       "      <td>36009093</td>\n",
       "      <td>Female</td>\n",
       "      <td>1984-06-04</td>\n",
       "      <td>SC</td>\n",
       "      <td>264-374-5794</td>\n",
       "      <td>Platinum</td>\n",
       "      <td>NaN</td>\n",
       "      <td>NaN</td>\n",
       "      <td>NaT</td>\n",
       "      <td>NaN</td>\n",
       "      <td>NaN</td>\n",
       "      <td>NaN</td>\n",
       "      <td>NaN</td>\n",
       "      <td>NaN</td>\n",
       "      <td>NaN</td>\n",
       "      <td>0</td>\n",
       "    </tr>\n",
       "    <tr>\n",
       "      <th>1082</th>\n",
       "      <td>60016590</td>\n",
       "      <td>Female</td>\n",
       "      <td>1984-05-25</td>\n",
       "      <td>NV</td>\n",
       "      <td>649-742-8132</td>\n",
       "      <td>Silver</td>\n",
       "      <td>NaN</td>\n",
       "      <td>NaN</td>\n",
       "      <td>NaT</td>\n",
       "      <td>NaN</td>\n",
       "      <td>NaN</td>\n",
       "      <td>NaN</td>\n",
       "      <td>NaN</td>\n",
       "      <td>NaN</td>\n",
       "      <td>NaN</td>\n",
       "      <td>0</td>\n",
       "    </tr>\n",
       "    <tr>\n",
       "      <th>1083</th>\n",
       "      <td>96861647</td>\n",
       "      <td>Female</td>\n",
       "      <td>1996-08-06</td>\n",
       "      <td>NH</td>\n",
       "      <td>495-732-2638</td>\n",
       "      <td>Silver</td>\n",
       "      <td>NaN</td>\n",
       "      <td>NaN</td>\n",
       "      <td>NaT</td>\n",
       "      <td>NaN</td>\n",
       "      <td>NaN</td>\n",
       "      <td>NaN</td>\n",
       "      <td>NaN</td>\n",
       "      <td>NaN</td>\n",
       "      <td>NaN</td>\n",
       "      <td>0</td>\n",
       "    </tr>\n",
       "    <tr>\n",
       "      <th>1084</th>\n",
       "      <td>70659761</td>\n",
       "      <td>Male</td>\n",
       "      <td>1994-06-25</td>\n",
       "      <td>WI</td>\n",
       "      <td>928-163-5178</td>\n",
       "      <td>Platinum</td>\n",
       "      <td>NaN</td>\n",
       "      <td>NaN</td>\n",
       "      <td>NaT</td>\n",
       "      <td>NaN</td>\n",
       "      <td>NaN</td>\n",
       "      <td>NaN</td>\n",
       "      <td>NaN</td>\n",
       "      <td>NaN</td>\n",
       "      <td>NaN</td>\n",
       "      <td>0</td>\n",
       "    </tr>\n",
       "  </tbody>\n",
       "</table>\n",
       "<p>1085 rows × 16 columns</p>\n",
       "</div>"
      ],
      "text/plain": [
       "      Customer_ID  gender DateOfBirth State       Contact   Segment  \\\n",
       "0        93915431    Male  2067-09-08    ME  134-785-1687      Gold   \n",
       "1        38011078  Female  1976-05-20    NE  271-123-1475      Gold   \n",
       "2        58451506    Male  2068-04-22    FL  673-574-7823      Gold   \n",
       "3        46710738    Male  1977-04-28    MO  962-834-9361      Gold   \n",
       "4        77510822  Female  1986-03-18    AK  436-934-7156    Silver   \n",
       "...           ...     ...         ...   ...           ...       ...   \n",
       "1080     74888099    Male  1980-07-22    CO  125-613-7698  Platinum   \n",
       "1081     36009093  Female  1984-06-04    SC  264-374-5794  Platinum   \n",
       "1082     60016590  Female  1984-05-25    NV  649-742-8132    Silver   \n",
       "1083     96861647  Female  1996-08-06    NH  495-732-2638    Silver   \n",
       "1084     70659761    Male  1994-06-25    WI  928-163-5178  Platinum   \n",
       "\n",
       "        claim_id      incident_cause claim_date claim_area police_report  \\\n",
       "0     99775483.0        Other causes 2018-10-30       Auto            No   \n",
       "1     98795403.0               Crime 2018-10-30       Auto       Unknown   \n",
       "2     43042986.0      Natural causes 2018-10-30       Auto            No   \n",
       "3     74761374.0        Driver error 2018-10-30       Auto            No   \n",
       "4     87329176.0  Other driver error 2018-10-30       Auto       Unknown   \n",
       "...          ...                 ...        ...        ...           ...   \n",
       "1080         NaN                 NaN        NaT        NaN           NaN   \n",
       "1081         NaN                 NaN        NaT        NaN           NaN   \n",
       "1082         NaN                 NaN        NaT        NaN           NaN   \n",
       "1083         NaN                 NaN        NaT        NaN           NaN   \n",
       "1084         NaN                 NaN        NaT        NaN           NaN   \n",
       "\n",
       "               claim_type  claim_amount  total_policy_claims fraudulent  \\\n",
       "0     Material and injury       42124.5                  1.0        Yes   \n",
       "1           Material only        1940.0                  1.0         No   \n",
       "2           Material only        2420.0                  1.0         No   \n",
       "3           Material only        1830.0                  1.0         No   \n",
       "4           Material only           NaN                  2.0         No   \n",
       "...                   ...           ...                  ...        ...   \n",
       "1080                  NaN           NaN                  NaN        NaN   \n",
       "1081                  NaN           NaN                  NaN        NaN   \n",
       "1082                  NaN           NaN                  NaN        NaN   \n",
       "1083                  NaN           NaN                  NaN        NaN   \n",
       "1084                  NaN           NaN                  NaN        NaN   \n",
       "\n",
       "      alert_flag  \n",
       "0              1  \n",
       "1              0  \n",
       "2              0  \n",
       "3              0  \n",
       "4              0  \n",
       "...          ...  \n",
       "1080           0  \n",
       "1081           0  \n",
       "1082           0  \n",
       "1083           0  \n",
       "1084           0  \n",
       "\n",
       "[1085 rows x 16 columns]"
      ]
     },
     "execution_count": 546,
     "metadata": {},
     "output_type": "execute_result"
    }
   ],
   "source": [
    "df_sorted = merged_df.sort_values(by='claim_date', ascending=False)\n",
    "\n",
    "df_cleaned = df_sorted.drop_duplicates(subset='Customer_ID',keep='first')\n",
    "\n",
    "df_cleaned.reset_index(drop=True, inplace=True)\n",
    "\n",
    "df_cleaned\n",
    "\n"
   ]
  },
  {
   "cell_type": "markdown",
   "id": "d5d66d16-d0b9-47fc-af94-06ef4f1385f6",
   "metadata": {},
   "source": [
    "## 6. Check for missing values and impute the missing values with an appropriate value. (mean for continuous and mode for categorical)"
   ]
  },
  {
   "cell_type": "code",
   "execution_count": 548,
   "id": "d0149999-8be5-4ba2-a003-e33a3180efde",
   "metadata": {},
   "outputs": [
    {
     "data": {
      "text/plain": [
       "Customer_ID             0\n",
       "gender                  0\n",
       "DateOfBirth             0\n",
       "State                   0\n",
       "Contact                 0\n",
       "Segment                 0\n",
       "claim_id                7\n",
       "incident_cause          7\n",
       "claim_date              7\n",
       "claim_area              7\n",
       "police_report           7\n",
       "claim_type              7\n",
       "claim_amount           72\n",
       "total_policy_claims    17\n",
       "fraudulent              7\n",
       "alert_flag              0\n",
       "dtype: int64"
      ]
     },
     "execution_count": 548,
     "metadata": {},
     "output_type": "execute_result"
    }
   ],
   "source": [
    "df_cleaned.isnull().sum()"
   ]
  },
  {
   "cell_type": "code",
   "execution_count": null,
   "id": "de38f241-78c9-4118-bf0f-8ce996996d97",
   "metadata": {},
   "outputs": [],
   "source": [
    "for column in df_cleaned.columns:\n",
    "    \n",
    "    if df_cleaned[column].dtype in ['float64', 'int64']:\n",
    "        df_cleaned[column].fillna(df_cleaned[column].mean(), inplace=True)\n",
    "        \n",
    "    elif df_cleaned[column].dtype == 'object':\n",
    "        \n",
    "        df_cleaned[column].fillna(df_cleaned[column].mode()[0], inplace=True)"
   ]
  },
  {
   "cell_type": "code",
   "execution_count": 550,
   "id": "f03b21de-83e6-485c-b822-a7302e783c79",
   "metadata": {},
   "outputs": [
    {
     "data": {
      "text/plain": [
       "Customer_ID            0\n",
       "gender                 0\n",
       "DateOfBirth            0\n",
       "State                  0\n",
       "Contact                0\n",
       "Segment                0\n",
       "claim_id               0\n",
       "incident_cause         0\n",
       "claim_date             7\n",
       "claim_area             0\n",
       "police_report          0\n",
       "claim_type             0\n",
       "claim_amount           0\n",
       "total_policy_claims    0\n",
       "fraudulent             0\n",
       "alert_flag             0\n",
       "dtype: int64"
      ]
     },
     "execution_count": 550,
     "metadata": {},
     "output_type": "execute_result"
    }
   ],
   "source": [
    "df_cleaned.isnull().sum()\n"
   ]
  },
  {
   "cell_type": "code",
   "execution_count": 551,
   "id": "f229ed56-7795-4516-9c78-9846f5edc406",
   "metadata": {},
   "outputs": [
    {
     "name": "stderr",
     "output_type": "stream",
     "text": [
      "C:\\Users\\abhin\\AppData\\Local\\Temp\\ipykernel_7824\\2343921619.py:1: SettingWithCopyWarning: \n",
      "A value is trying to be set on a copy of a slice from a DataFrame\n",
      "\n",
      "See the caveats in the documentation: https://pandas.pydata.org/pandas-docs/stable/user_guide/indexing.html#returning-a-view-versus-a-copy\n",
      "  df_cleaned.dropna(inplace=True)\n"
     ]
    }
   ],
   "source": [
    "df_cleaned.dropna(inplace=True)"
   ]
  },
  {
   "cell_type": "code",
   "execution_count": 552,
   "id": "d76d1c79-830d-42fd-8494-26bdc0c0c437",
   "metadata": {},
   "outputs": [
    {
     "data": {
      "text/plain": [
       "Customer_ID            0\n",
       "gender                 0\n",
       "DateOfBirth            0\n",
       "State                  0\n",
       "Contact                0\n",
       "Segment                0\n",
       "claim_id               0\n",
       "incident_cause         0\n",
       "claim_date             0\n",
       "claim_area             0\n",
       "police_report          0\n",
       "claim_type             0\n",
       "claim_amount           0\n",
       "total_policy_claims    0\n",
       "fraudulent             0\n",
       "alert_flag             0\n",
       "dtype: int64"
      ]
     },
     "execution_count": 552,
     "metadata": {},
     "output_type": "execute_result"
    }
   ],
   "source": [
    "df_cleaned.isnull().sum()"
   ]
  },
  {
   "cell_type": "markdown",
   "id": "41e4a3db-f179-4a9a-996e-3ac8d9d1c1fe",
   "metadata": {},
   "source": [
    "### 7.. Calculate the age of customers in years. Based on the age, categorize thecustomers according to the below criteria\n",
    "\n",
    "### Children < 18, Youth 18- 30, Adult 30 -60, Senior > 60\n"
   ]
  },
  {
   "cell_type": "code",
   "execution_count": 554,
   "id": "ede6094c-9df0-4059-a4a2-04968ec47bcb",
   "metadata": {},
   "outputs": [],
   "source": [
    "# correcting incorrecting future dates in DoB column. i.e Dates > today\n",
    "df_cleaned.loc[df_cleaned['DateOfBirth'].dt.year > 2025, 'DateOfBirth'] = df_cleaned['DateOfBirth'] - pd.DateOffset(years=100)"
   ]
  },
  {
   "cell_type": "code",
   "execution_count": null,
   "id": "b2e87d49-cdad-4795-b209-a0fc4480da48",
   "metadata": {},
   "outputs": [],
   "source": [
    "today = pd.to_datetime('today')\n",
    "df_cleaned['Age'] = (today - df_cleaned['DateOfBirth']).dt.days // 365"
   ]
  },
  {
   "cell_type": "code",
   "execution_count": null,
   "id": "c7d547d3-7a46-43b7-9a2a-5daed9c88535",
   "metadata": {},
   "outputs": [],
   "source": [
    "df_cleaned['Age_Category'] = np.where (df_cleaned['Age'] < 18, 'Children', np.where (df_cleaned['Age'] <=30,'Youth', \n",
    " np.where (df_cleaned['Age'] <= 60,'Adult', 'Senior')) )"
   ]
  },
  {
   "cell_type": "code",
   "execution_count": 557,
   "id": "13ec92c5-a58a-4797-ab21-fc7e46cc86d3",
   "metadata": {},
   "outputs": [
    {
     "data": {
      "text/html": [
       "<div>\n",
       "<style scoped>\n",
       "    .dataframe tbody tr th:only-of-type {\n",
       "        vertical-align: middle;\n",
       "    }\n",
       "\n",
       "    .dataframe tbody tr th {\n",
       "        vertical-align: top;\n",
       "    }\n",
       "\n",
       "    .dataframe thead th {\n",
       "        text-align: right;\n",
       "    }\n",
       "</style>\n",
       "<table border=\"1\" class=\"dataframe\">\n",
       "  <thead>\n",
       "    <tr style=\"text-align: right;\">\n",
       "      <th></th>\n",
       "      <th>Age</th>\n",
       "      <th>Age_Category</th>\n",
       "    </tr>\n",
       "  </thead>\n",
       "  <tbody>\n",
       "    <tr>\n",
       "      <th>0</th>\n",
       "      <td>57</td>\n",
       "      <td>Adult</td>\n",
       "    </tr>\n",
       "    <tr>\n",
       "      <th>1</th>\n",
       "      <td>49</td>\n",
       "      <td>Adult</td>\n",
       "    </tr>\n",
       "    <tr>\n",
       "      <th>2</th>\n",
       "      <td>57</td>\n",
       "      <td>Adult</td>\n",
       "    </tr>\n",
       "    <tr>\n",
       "      <th>3</th>\n",
       "      <td>48</td>\n",
       "      <td>Adult</td>\n",
       "    </tr>\n",
       "    <tr>\n",
       "      <th>4</th>\n",
       "      <td>39</td>\n",
       "      <td>Adult</td>\n",
       "    </tr>\n",
       "    <tr>\n",
       "      <th>...</th>\n",
       "      <td>...</td>\n",
       "      <td>...</td>\n",
       "    </tr>\n",
       "    <tr>\n",
       "      <th>1073</th>\n",
       "      <td>25</td>\n",
       "      <td>Youth</td>\n",
       "    </tr>\n",
       "    <tr>\n",
       "      <th>1074</th>\n",
       "      <td>31</td>\n",
       "      <td>Adult</td>\n",
       "    </tr>\n",
       "    <tr>\n",
       "      <th>1075</th>\n",
       "      <td>51</td>\n",
       "      <td>Adult</td>\n",
       "    </tr>\n",
       "    <tr>\n",
       "      <th>1076</th>\n",
       "      <td>39</td>\n",
       "      <td>Adult</td>\n",
       "    </tr>\n",
       "    <tr>\n",
       "      <th>1077</th>\n",
       "      <td>30</td>\n",
       "      <td>Youth</td>\n",
       "    </tr>\n",
       "  </tbody>\n",
       "</table>\n",
       "<p>1078 rows × 2 columns</p>\n",
       "</div>"
      ],
      "text/plain": [
       "      Age Age_Category\n",
       "0      57        Adult\n",
       "1      49        Adult\n",
       "2      57        Adult\n",
       "3      48        Adult\n",
       "4      39        Adult\n",
       "...   ...          ...\n",
       "1073   25        Youth\n",
       "1074   31        Adult\n",
       "1075   51        Adult\n",
       "1076   39        Adult\n",
       "1077   30        Youth\n",
       "\n",
       "[1078 rows x 2 columns]"
      ]
     },
     "execution_count": 557,
     "metadata": {},
     "output_type": "execute_result"
    }
   ],
   "source": [
    "df_cleaned[['Age','Age_Category']]"
   ]
  },
  {
   "cell_type": "markdown",
   "id": "0c54c9af-a958-4579-b05f-72f3e5bfe561",
   "metadata": {},
   "source": [
    "### 8. What is the average amount claimed by the customers from various segments?"
   ]
  },
  {
   "cell_type": "code",
   "execution_count": 559,
   "id": "22029150-b1b8-4f2f-8790-43365476d23b",
   "metadata": {},
   "outputs": [
    {
     "data": {
      "text/html": [
       "<div>\n",
       "<style scoped>\n",
       "    .dataframe tbody tr th:only-of-type {\n",
       "        vertical-align: middle;\n",
       "    }\n",
       "\n",
       "    .dataframe tbody tr th {\n",
       "        vertical-align: top;\n",
       "    }\n",
       "\n",
       "    .dataframe thead th {\n",
       "        text-align: right;\n",
       "    }\n",
       "</style>\n",
       "<table border=\"1\" class=\"dataframe\">\n",
       "  <thead>\n",
       "    <tr style=\"text-align: right;\">\n",
       "      <th></th>\n",
       "      <th>Average_Claim_Amount</th>\n",
       "    </tr>\n",
       "    <tr>\n",
       "      <th>Segment</th>\n",
       "      <th></th>\n",
       "    </tr>\n",
       "  </thead>\n",
       "  <tbody>\n",
       "    <tr>\n",
       "      <th>Silver</th>\n",
       "      <td>12267.859374</td>\n",
       "    </tr>\n",
       "    <tr>\n",
       "      <th>Platinum</th>\n",
       "      <td>12371.654843</td>\n",
       "    </tr>\n",
       "    <tr>\n",
       "      <th>Gold</th>\n",
       "      <td>12846.400227</td>\n",
       "    </tr>\n",
       "  </tbody>\n",
       "</table>\n",
       "</div>"
      ],
      "text/plain": [
       "          Average_Claim_Amount\n",
       "Segment                       \n",
       "Silver            12267.859374\n",
       "Platinum          12371.654843\n",
       "Gold              12846.400227"
      ]
     },
     "execution_count": 559,
     "metadata": {},
     "output_type": "execute_result"
    }
   ],
   "source": [
    "df_cleaned[['Segment','claim_amount']].groupby(by='Segment').mean().rename(columns = \n",
    " {'claim_amount': 'Average_Claim_Amount'}).sort_values(by = 'Average_Claim_Amount')"
   ]
  },
  {
   "cell_type": "markdown",
   "id": "d468ad02-e980-4c4f-98d2-3125c256ee27",
   "metadata": {},
   "source": [
    "### 9. What is the total claim amount based on incident cause for all the claims that have been done at least 20 days prior to 1st of October, 2018."
   ]
  },
  {
   "cell_type": "code",
   "execution_count": 561,
   "id": "507baa07-9eb9-4374-976b-302a30524e32",
   "metadata": {},
   "outputs": [],
   "source": [
    "cutoff_date = pd.to_datetime('2018-10-01') - pd.Timedelta(days=20)"
   ]
  },
  {
   "cell_type": "code",
   "execution_count": 562,
   "id": "c3b5e2b2-cd44-4f68-aa3f-92e9e3e37caa",
   "metadata": {},
   "outputs": [],
   "source": [
    "filtered_df = df_cleaned[df_cleaned['claim_date'] <= cutoff_date ]"
   ]
  },
  {
   "cell_type": "code",
   "execution_count": 563,
   "id": "c46e5d40-b3ea-43dd-8e0f-cbecbf8c9ab7",
   "metadata": {},
   "outputs": [
    {
     "data": {
      "text/html": [
       "<div>\n",
       "<style scoped>\n",
       "    .dataframe tbody tr th:only-of-type {\n",
       "        vertical-align: middle;\n",
       "    }\n",
       "\n",
       "    .dataframe tbody tr th {\n",
       "        vertical-align: top;\n",
       "    }\n",
       "\n",
       "    .dataframe thead th {\n",
       "        text-align: right;\n",
       "    }\n",
       "</style>\n",
       "<table border=\"1\" class=\"dataframe\">\n",
       "  <thead>\n",
       "    <tr style=\"text-align: right;\">\n",
       "      <th></th>\n",
       "      <th>Total_Claim_Amount</th>\n",
       "    </tr>\n",
       "    <tr>\n",
       "      <th>incident_cause</th>\n",
       "      <th></th>\n",
       "    </tr>\n",
       "  </thead>\n",
       "  <tbody>\n",
       "    <tr>\n",
       "      <th>Crime</th>\n",
       "      <td>7.219386e+05</td>\n",
       "    </tr>\n",
       "    <tr>\n",
       "      <th>Natural causes</th>\n",
       "      <td>1.312987e+06</td>\n",
       "    </tr>\n",
       "    <tr>\n",
       "      <th>Other driver error</th>\n",
       "      <td>3.277536e+06</td>\n",
       "    </tr>\n",
       "    <tr>\n",
       "      <th>Driver error</th>\n",
       "      <td>3.315851e+06</td>\n",
       "    </tr>\n",
       "    <tr>\n",
       "      <th>Other causes</th>\n",
       "      <td>3.723152e+06</td>\n",
       "    </tr>\n",
       "  </tbody>\n",
       "</table>\n",
       "</div>"
      ],
      "text/plain": [
       "                    Total_Claim_Amount\n",
       "incident_cause                        \n",
       "Crime                     7.219386e+05\n",
       "Natural causes            1.312987e+06\n",
       "Other driver error        3.277536e+06\n",
       "Driver error              3.315851e+06\n",
       "Other causes              3.723152e+06"
      ]
     },
     "execution_count": 563,
     "metadata": {},
     "output_type": "execute_result"
    }
   ],
   "source": [
    "filtered_df[['claim_amount','incident_cause']].groupby(by =['incident_cause']).sum().rename(columns=\n",
    " {'claim_amount':'Total_Claim_Amount'}).sort_values(by='Total_Claim_Amount')"
   ]
  },
  {
   "cell_type": "code",
   "execution_count": 564,
   "id": "3eee0c07-5c7d-47f4-88a5-8943a6c58163",
   "metadata": {},
   "outputs": [
    {
     "data": {
      "text/html": [
       "<div>\n",
       "<style scoped>\n",
       "    .dataframe tbody tr th:only-of-type {\n",
       "        vertical-align: middle;\n",
       "    }\n",
       "\n",
       "    .dataframe tbody tr th {\n",
       "        vertical-align: top;\n",
       "    }\n",
       "\n",
       "    .dataframe thead th {\n",
       "        text-align: right;\n",
       "    }\n",
       "</style>\n",
       "<table border=\"1\" class=\"dataframe\">\n",
       "  <thead>\n",
       "    <tr style=\"text-align: right;\">\n",
       "      <th></th>\n",
       "      <th>Customer_ID</th>\n",
       "      <th>gender</th>\n",
       "      <th>DateOfBirth</th>\n",
       "      <th>State</th>\n",
       "      <th>Contact</th>\n",
       "      <th>Segment</th>\n",
       "      <th>claim_id</th>\n",
       "      <th>incident_cause</th>\n",
       "      <th>claim_date</th>\n",
       "      <th>claim_area</th>\n",
       "      <th>police_report</th>\n",
       "      <th>claim_type</th>\n",
       "      <th>claim_amount</th>\n",
       "      <th>total_policy_claims</th>\n",
       "      <th>fraudulent</th>\n",
       "      <th>alert_flag</th>\n",
       "      <th>Age</th>\n",
       "      <th>Age_Category</th>\n",
       "    </tr>\n",
       "  </thead>\n",
       "  <tbody>\n",
       "    <tr>\n",
       "      <th>0</th>\n",
       "      <td>93915431</td>\n",
       "      <td>Male</td>\n",
       "      <td>1967-09-08</td>\n",
       "      <td>ME</td>\n",
       "      <td>134-785-1687</td>\n",
       "      <td>Gold</td>\n",
       "      <td>99775483.0</td>\n",
       "      <td>Other causes</td>\n",
       "      <td>2018-10-30</td>\n",
       "      <td>Auto</td>\n",
       "      <td>No</td>\n",
       "      <td>Material and injury</td>\n",
       "      <td>42124.500000</td>\n",
       "      <td>1.0</td>\n",
       "      <td>Yes</td>\n",
       "      <td>1</td>\n",
       "      <td>57</td>\n",
       "      <td>Adult</td>\n",
       "    </tr>\n",
       "    <tr>\n",
       "      <th>1</th>\n",
       "      <td>38011078</td>\n",
       "      <td>Female</td>\n",
       "      <td>1976-05-20</td>\n",
       "      <td>NE</td>\n",
       "      <td>271-123-1475</td>\n",
       "      <td>Gold</td>\n",
       "      <td>98795403.0</td>\n",
       "      <td>Crime</td>\n",
       "      <td>2018-10-30</td>\n",
       "      <td>Auto</td>\n",
       "      <td>Unknown</td>\n",
       "      <td>Material only</td>\n",
       "      <td>1940.000000</td>\n",
       "      <td>1.0</td>\n",
       "      <td>No</td>\n",
       "      <td>0</td>\n",
       "      <td>49</td>\n",
       "      <td>Adult</td>\n",
       "    </tr>\n",
       "    <tr>\n",
       "      <th>2</th>\n",
       "      <td>58451506</td>\n",
       "      <td>Male</td>\n",
       "      <td>1968-04-22</td>\n",
       "      <td>FL</td>\n",
       "      <td>673-574-7823</td>\n",
       "      <td>Gold</td>\n",
       "      <td>43042986.0</td>\n",
       "      <td>Natural causes</td>\n",
       "      <td>2018-10-30</td>\n",
       "      <td>Auto</td>\n",
       "      <td>No</td>\n",
       "      <td>Material only</td>\n",
       "      <td>2420.000000</td>\n",
       "      <td>1.0</td>\n",
       "      <td>No</td>\n",
       "      <td>0</td>\n",
       "      <td>57</td>\n",
       "      <td>Adult</td>\n",
       "    </tr>\n",
       "    <tr>\n",
       "      <th>3</th>\n",
       "      <td>46710738</td>\n",
       "      <td>Male</td>\n",
       "      <td>1977-04-28</td>\n",
       "      <td>MO</td>\n",
       "      <td>962-834-9361</td>\n",
       "      <td>Gold</td>\n",
       "      <td>74761374.0</td>\n",
       "      <td>Driver error</td>\n",
       "      <td>2018-10-30</td>\n",
       "      <td>Auto</td>\n",
       "      <td>No</td>\n",
       "      <td>Material only</td>\n",
       "      <td>1830.000000</td>\n",
       "      <td>1.0</td>\n",
       "      <td>No</td>\n",
       "      <td>0</td>\n",
       "      <td>48</td>\n",
       "      <td>Adult</td>\n",
       "    </tr>\n",
       "    <tr>\n",
       "      <th>4</th>\n",
       "      <td>77510822</td>\n",
       "      <td>Female</td>\n",
       "      <td>1986-03-18</td>\n",
       "      <td>AK</td>\n",
       "      <td>436-934-7156</td>\n",
       "      <td>Silver</td>\n",
       "      <td>87329176.0</td>\n",
       "      <td>Other driver error</td>\n",
       "      <td>2018-10-30</td>\n",
       "      <td>Auto</td>\n",
       "      <td>Unknown</td>\n",
       "      <td>Material only</td>\n",
       "      <td>12501.726555</td>\n",
       "      <td>2.0</td>\n",
       "      <td>No</td>\n",
       "      <td>0</td>\n",
       "      <td>39</td>\n",
       "      <td>Adult</td>\n",
       "    </tr>\n",
       "  </tbody>\n",
       "</table>\n",
       "</div>"
      ],
      "text/plain": [
       "   Customer_ID  gender DateOfBirth State       Contact Segment    claim_id  \\\n",
       "0     93915431    Male  1967-09-08    ME  134-785-1687    Gold  99775483.0   \n",
       "1     38011078  Female  1976-05-20    NE  271-123-1475    Gold  98795403.0   \n",
       "2     58451506    Male  1968-04-22    FL  673-574-7823    Gold  43042986.0   \n",
       "3     46710738    Male  1977-04-28    MO  962-834-9361    Gold  74761374.0   \n",
       "4     77510822  Female  1986-03-18    AK  436-934-7156  Silver  87329176.0   \n",
       "\n",
       "       incident_cause claim_date claim_area police_report  \\\n",
       "0        Other causes 2018-10-30       Auto            No   \n",
       "1               Crime 2018-10-30       Auto       Unknown   \n",
       "2      Natural causes 2018-10-30       Auto            No   \n",
       "3        Driver error 2018-10-30       Auto            No   \n",
       "4  Other driver error 2018-10-30       Auto       Unknown   \n",
       "\n",
       "            claim_type  claim_amount  total_policy_claims fraudulent  \\\n",
       "0  Material and injury  42124.500000                  1.0        Yes   \n",
       "1        Material only   1940.000000                  1.0         No   \n",
       "2        Material only   2420.000000                  1.0         No   \n",
       "3        Material only   1830.000000                  1.0         No   \n",
       "4        Material only  12501.726555                  2.0         No   \n",
       "\n",
       "   alert_flag  Age Age_Category  \n",
       "0           1   57        Adult  \n",
       "1           0   49        Adult  \n",
       "2           0   57        Adult  \n",
       "3           0   48        Adult  \n",
       "4           0   39        Adult  "
      ]
     },
     "execution_count": 564,
     "metadata": {},
     "output_type": "execute_result"
    }
   ],
   "source": [
    "df_cleaned.head()"
   ]
  },
  {
   "cell_type": "markdown",
   "id": "a96e38c5-e97d-48ad-b95c-c0d91ec63123",
   "metadata": {},
   "source": [
    "### 10. How many adults from TX, DE and AK claimed insurance for driver related issues and causes?"
   ]
  },
  {
   "cell_type": "code",
   "execution_count": 566,
   "id": "7cd20f03-2e24-4a97-b198-e74d2c3994ae",
   "metadata": {},
   "outputs": [],
   "source": [
    "df_filtered = df_cleaned[(df_cleaned['Age'] >= 18) &\n",
    "    (df_cleaned['State'].isin(['TX', 'DE', 'AK'])) &\n",
    "    (df_cleaned['incident_cause'].isin(['Driver error', 'Other driver error']))]"
   ]
  },
  {
   "cell_type": "code",
   "execution_count": 567,
   "id": "a9afffc4-9d20-4e78-a254-363273070114",
   "metadata": {},
   "outputs": [
    {
     "name": "stdout",
     "output_type": "stream",
     "text": [
      "Number of adult driver-related claims from TX, DE, and AK: 35\n"
     ]
    }
   ],
   "source": [
    "print(\"Number of adult driver-related claims from TX, DE, and AK:\",df_filtered.shape[0])"
   ]
  },
  {
   "cell_type": "markdown",
   "id": "cc4a4e91-c7bc-438d-8a4e-d55d07650b65",
   "metadata": {},
   "source": [
    "### 11.Draw a pie chart between the aggregated value of claim amount based on gender and segment. Represent the claim amount as a percentage on the pie chart."
   ]
  },
  {
   "cell_type": "code",
   "execution_count": 569,
   "id": "08fc2001-b28b-4529-9c5b-57ade13e03ed",
   "metadata": {},
   "outputs": [],
   "source": [
    "grouped = df_cleaned[['claim_amount','gender','Segment']].groupby(by =['gender','Segment'] ).sum().reset_index()\n",
    "grouped['Label'] = grouped['gender'] + ' - ' + grouped['Segment']"
   ]
  },
  {
   "cell_type": "code",
   "execution_count": 570,
   "id": "d9d0d1d5-ce08-4b08-afdd-627b0424810a",
   "metadata": {},
   "outputs": [
    {
     "data": {
      "image/png": "[encoded data removed]",
      "text/plain": [
       "<Figure size 400x400 with 1 Axes>"
      ]
     },
     "metadata": {},
     "output_type": "display_data"
    }
   ],
   "source": [
    "plt.figure(figsize=(4,4))\n",
    "plt.pie(grouped['claim_amount'],\n",
    "        labels=grouped['Label'],\n",
    "        autopct='%1.1f%%',\n",
    "        startangle=140,\n",
    "        )\n",
    "\n",
    "plt.title('Claim Amount Distribution by Gender and Segment')\n",
    "\n",
    "plt.show()"
   ]
  },
  {
   "cell_type": "markdown",
   "id": "2bc41c81-955f-475b-a7ce-db17cd8b1b03",
   "metadata": {},
   "source": [
    "### 12.  Among males and females, which gender had claimed the most for any type of driver related issues? E.g. This metric can be compared using a bar chart"
   ]
  },
  {
   "cell_type": "code",
   "execution_count": 572,
   "id": "642aa8d3-ccb4-49b7-980d-d7e4ebaff336",
   "metadata": {},
   "outputs": [],
   "source": [
    "driver_issues = df_cleaned[df_cleaned['incident_cause'].isin(['Driver error', 'Other driver error'])]"
   ]
  },
  {
   "cell_type": "code",
   "execution_count": 573,
   "id": "aa677e21-dbd0-4137-8d52-544e8ae24a94",
   "metadata": {},
   "outputs": [],
   "source": [
    "gender_claims = driver_issues[['gender','claim_amount']].groupby(by = 'gender').sum().sort_values(by\n",
    "                                                    = 'claim_amount',ascending=False).reset_index()"
   ]
  },
  {
   "cell_type": "code",
   "execution_count": 574,
   "id": "7ef2bde6-5f8b-4c3f-a988-370d16e03255",
   "metadata": {},
   "outputs": [
    {
     "data": {
      "image/png": "[encoded data removed]",
      "text/plain": [
       "<Figure size 300x400 with 1 Axes>"
      ]
     },
     "metadata": {},
     "output_type": "display_data"
    }
   ],
   "source": [
    "plt.figure(figsize=(3, 4))\n",
    "plt.bar(gender_claims['gender'], gender_claims['claim_amount'], color=['red', 'pink'])\n",
    "plt.title('Total Claim Amount by Gender for Driver-Related Issues')\n",
    "plt.xlabel('Gender')\n",
    "plt.ylabel('Total Claim Amount')\n",
    "plt.tight_layout()\n",
    "plt.show()"
   ]
  },
  {
   "cell_type": "markdown",
   "id": "13a9167b-22ff-49b1-b1e3-be2d669a7c3b",
   "metadata": {},
   "source": [
    "### 13 Which age group had the maximum fraudulent policy claims? Visualize it on a bar chart"
   ]
  },
  {
   "cell_type": "code",
   "execution_count": 576,
   "id": "bc4ff0f2-643b-42dd-8ec9-0b19db497249",
   "metadata": {},
   "outputs": [],
   "source": [
    "fraud = df_cleaned[df_cleaned['fraudulent']== 'Yes']\n",
    "fraud_counts = fraud['Age_Category'].value_counts().sort_values(ascending = False)"
   ]
  },
  {
   "cell_type": "code",
   "execution_count": 577,
   "id": "a936c780-103e-4995-8312-f64aa9952d19",
   "metadata": {},
   "outputs": [
    {
     "data": {
      "image/png": "[encoded data removed]",
      "text/plain": [
       "<Figure size 400x400 with 1 Axes>"
      ]
     },
     "metadata": {},
     "output_type": "display_data"
    }
   ],
   "source": [
    "plt.figure(figsize=(4, 4))\n",
    "plt.bar(fraud_counts.index.astype(str), fraud_counts.values, color='blue')\n",
    "plt.title('Fraudulent Claims by Age Group')\n",
    "plt.xlabel('Age Group')\n",
    "plt.ylabel('Number of Fraudulent Claims')\n",
    "plt.tight_layout()\n",
    "plt.show()"
   ]
  },
  {
   "cell_type": "markdown",
   "id": "c854b7b6-96c1-462f-91e8-a3ceb4b8feac",
   "metadata": {},
   "source": [
    "### 14. Visualize the monthly trend of the total amount that has been claimed by the customers. Ensure that on the “month” axis, the month is in chronological order not alphabetical order."
   ]
  },
  {
   "cell_type": "code",
   "execution_count": null,
   "id": "4339eb24-4da8-49e6-aa8a-45239e577d02",
   "metadata": {},
   "outputs": [],
   "source": [
    "# Extract Year-Month as string\n",
    "df_cleaned['Month'] = df_cleaned['claim_date'].dt.to_period('M').astype(str)\n",
    "\n",
    "# Group by Year-Month and sum claim amount\n",
    "monthly_trend = df_cleaned[['Month','claim_amount']].groupby(by = 'Month').sum().sort_values(by = 'Month').reset_index()\n",
    "\n",
    "# Convert Month string back to datetime for sorting & formatting\n",
    "monthly_trend['Month'] = pd.to_datetime(monthly_trend['Month'])\n",
    "\n",
    "\n",
    "# Extract month name with year for bar labels\n",
    "monthly_trend['Month_Label'] = monthly_trend['Month'].dt.strftime('%b %Y')\n"
   ]
  },
  {
   "cell_type": "code",
   "execution_count": 580,
   "id": "3981c292-6e80-47be-a421-e62cd572a493",
   "metadata": {},
   "outputs": [
    {
     "data": {
      "image/png": "[encoded data removed]",
      "text/plain": [
       "<Figure size 1200x600 with 1 Axes>"
      ]
     },
     "metadata": {},
     "output_type": "display_data"
    }
   ],
   "source": [
    "plt.figure(figsize=(12, 6))\n",
    "sns.barplot(data=monthly_trend, x='Month_Label', y='claim_amount')\n",
    "\n",
    "plt.title('Monthly Total Claim Amount')\n",
    "plt.xlabel('Months')\n",
    "plt.ylabel('Total Claim Amount')\n",
    "plt.xticks(rotation=45)\n",
    "plt.tight_layout()\n",
    "plt.show()"
   ]
  },
  {
   "cell_type": "markdown",
   "id": "d3109cfa-9984-4ffb-8c2a-efb3b0e23eaa",
   "metadata": {},
   "source": [
    "### 15. What is the average claim amount for gender and age categories and suitably represent the above using a facetted bar chart, one facet that represents fraudulent claims and the other for non-fraudulent claims"
   ]
  },
  {
   "cell_type": "code",
   "execution_count": 666,
   "id": "4cb4d397-8302-416a-b008-824089920498",
   "metadata": {},
   "outputs": [],
   "source": [
    "grouped = df_cleaned[['gender','Age_Category','fraudulent','claim_amount']].groupby(by=['gender','fraudulent','Age_Category']).mean().rename(columns=\n",
    "                                                        {'claim_amount':'Average Claim Amount'}).reset_index()"
   ]
  },
  {
   "cell_type": "code",
   "execution_count": 583,
   "id": "4bcb6825-f7bb-4035-b42c-0d5ba3e3738f",
   "metadata": {},
   "outputs": [
    {
     "data": {
      "image/png": "[encoded data removed]",
      "text/plain": [
       "<Figure size 1305.88x500 with 2 Axes>"
      ]
     },
     "metadata": {},
     "output_type": "display_data"
    }
   ],
   "source": [
    "sns.set(style=\"whitegrid\")\n",
    "g = sns.catplot(\n",
    "    data=grouped,\n",
    "    kind=\"bar\",\n",
    "    x=\"Age_Category\",\n",
    "    y=\"Average Claim Amount\",\n",
    "    hue=\"gender\",\n",
    "    col=\"fraudulent\",  # One facet for 'Yes', one for 'No'\n",
    "    palette=\"Set2\",\n",
    "    height=5,\n",
    "    aspect=1.2\n",
    ")\n",
    "\n",
    "g.set_axis_labels(\"Age Group\", \"Average Claim Amount\")\n",
    "g.set_titles(\"Fraudulent: {col_name}\")\n",
    "g._legend.set_title(\"Gender\")\n",
    "plt.tight_layout()\n",
    "plt.show()\n",
    "\n"
   ]
  },
  {
   "cell_type": "markdown",
   "id": "24086b2c-c4c6-4446-9a04-34440c3e8e54",
   "metadata": {},
   "source": [
    "## Based on the conclusions from exploratory analysis as well as suitable statistical tests, answer the below questions. Please include a detailed write-up on the parameters taken into consideration, the Hypothesis testing steps, conclusion from the p-values and the business implications of the statements. "
   ]
  },
  {
   "cell_type": "markdown",
   "id": "06baec08-9296-4104-853b-ed6b4c611ccd",
   "metadata": {},
   "source": [
    "### 16. Is there any similarity in the amount claimed by males and females?"
   ]
  },
  {
   "cell_type": "raw",
   "id": "82adf74c-5176-46f5-b56d-ed9f7b0bd050",
   "metadata": {},
   "source": [
    "1. Parameter Taken into Consideration:\n",
    "Variable 1: Gender (Male, Female)\n",
    "Variable 2: claim_amount (numeric)\n",
    "#We are comparing the mean claim_amount across two independent groups: males and females."
   ]
  },
  {
   "cell_type": "raw",
   "id": "2649cd45-aaf9-43ca-b51a-183410fbf7d6",
   "metadata": {},
   "source": [
    "# Defining \n",
    "Null Hypothesis (Ho): The average claim amount for males and females is the same. μ_male = μ_female\n",
    "\n",
    "Alternative Hypothesis (Ha): The average claim amount for males and females is different - μ_male != μ_female"
   ]
  },
  {
   "cell_type": "code",
   "execution_count": 586,
   "id": "3dcad51a-9b14-4b42-9a5e-d1a3be30f69b",
   "metadata": {},
   "outputs": [],
   "source": [
    "# Separate the claim amounts by gender\n",
    "male_claims = df_cleaned[df_cleaned['gender'] == 'Male']['claim_amount'].dropna()\n",
    "female_claims = df_cleaned[df_cleaned['gender'] == 'Female']['claim_amount'].dropna()"
   ]
  },
  {
   "cell_type": "code",
   "execution_count": 587,
   "id": "013a40c6-c249-42c8-9e2e-0f9e42159506",
   "metadata": {},
   "outputs": [
    {
     "name": "stdout",
     "output_type": "stream",
     "text": [
      "T-statistic: 0.9631807435884877 P-value: 0.3356732711202426\n"
     ]
    }
   ],
   "source": [
    "# # Perform the t-test\n",
    "t_stat, p_value = stats.ttest_ind(male_claims, female_claims, equal_var=False)  # Welch’s t-test\n",
    "print('T-statistic:', t_stat, 'P-value:', p_value)"
   ]
  },
  {
   "cell_type": "raw",
   "id": "b6b62f9f-1eb5-4135-9418-ab2d1d6b947e",
   "metadata": {},
   "source": [
    "# Decision Based on P-value:\n",
    "Since p-value = 0.30 > 0.05, we wil accept ho.\n",
    "This means: There is no statistically significant difference in claim amounts between males and females."
   ]
  },
  {
   "cell_type": "raw",
   "id": "cc8ebc07-179c-4adb-a757-74d8cb699881",
   "metadata": {},
   "source": [
    "Business Implication:\n",
    "There is no gender bias in the amount claimed — policies and processes do not need to be gender-specific in terms of coverage or scrutiny.\n",
    "\n",
    "Insurance fraud detection, policy pricing, and customer profiling can be built focusing on other predictors like age, region, or claim type rather than gender."
   ]
  },
  {
   "cell_type": "markdown",
   "id": "aa1984bc-e754-4129-a26b-2e6cc2e74b4e",
   "metadata": {},
   "source": [
    "### 17. Is there any relationship between age category and segment?"
   ]
  },
  {
   "cell_type": "raw",
   "id": "15911ae7-8ac9-447c-b322-239f35c2be59",
   "metadata": {},
   "source": [
    "Variables:\n",
    "Variable 1: Age Category (Children, Youth, Adult, Senior)\n",
    "\n",
    "Variable 2: Segment (e.g., Corporate, Individual, etc.)"
   ]
  },
  {
   "cell_type": "raw",
   "id": "82b58914-7225-43f8-b8f0-4d9cab5eff96",
   "metadata": {},
   "source": [
    "Step 1: Set Hypotheses\n",
    "Null Hypothesis (Ho): Age Category and Segment are independent (i.e., no relationship).\n",
    "\n",
    "Alternative Hypothesis (Ha): Age Category and Segment are not independent (i.e., there is a relationship)."
   ]
  },
  {
   "cell_type": "code",
   "execution_count": 589,
   "id": "6ed72d94-110b-48be-901d-efb1cd0bca3d",
   "metadata": {},
   "outputs": [],
   "source": [
    "contingency_table = pd.crosstab(df_cleaned['Age_Category'], df_cleaned['Segment'])\n"
   ]
  },
  {
   "cell_type": "code",
   "execution_count": 590,
   "id": "5cc80a7a-2a06-42a1-ae09-16cf8a8c02bc",
   "metadata": {},
   "outputs": [
    {
     "name": "stdout",
     "output_type": "stream",
     "text": [
      "P-Value: 0.3356732711202426\n"
     ]
    }
   ],
   "source": [
    "s1 = stats.chi2_contingency (contingency_table)\n",
    "print(\"P-Value:\", (p_value))"
   ]
  },
  {
   "cell_type": "raw",
   "id": "ad646f54-a3c3-44ed-bbae-657c9896d0ac",
   "metadata": {},
   "source": [
    "# decision based on P-value:\n",
    "Since p-value 0.93 > 0.05, we wil accept ho, i.e. No significant relationship.\n",
    "Interpretation: There is no statistically significant relationship between age category and segment."
   ]
  },
  {
   "cell_type": "raw",
   "id": "9e7d66d4-e940-4c64-ae8b-03a30d993ed5",
   "metadata": {},
   "source": [
    "Business Implication:\n",
    "Since age category does not influence segment choice, your marketing or plan recommendations should not be age-based alone.\n",
    "\n",
    "This suggests that other variables (e.g., income, risk profile, location) may be more impactful in understanding customer preferences for insurance segments.\n",
    "\n",
    "You should explore these other dimensions for segmentation or personalization strategies."
   ]
  },
  {
   "cell_type": "markdown",
   "id": "9ee36698-9397-445a-8195-28740bdc70ee",
   "metadata": {},
   "source": [
    "### 18. The current year has shown a significant rise in claim amounts as compared to 2016-17 fiscal average which was $10,000."
   ]
  },
  {
   "cell_type": "raw",
   "id": "11b550fb-8095-49b7-89f8-9f9225402c7d",
   "metadata": {},
   "source": [
    "#Define Hypotheses:\n",
    "Null Hypothesis (Ho): The average claim amount in the current year is equal to $10,000\n",
    "\n",
    "Alternate Hypothesis (Ha): The average claim amount in the current year is greater than $10,000"
   ]
  },
  {
   "cell_type": "code",
   "execution_count": 592,
   "id": "fe997a9f-c606-41b1-acc7-07c8dd147476",
   "metadata": {},
   "outputs": [],
   "source": [
    "current_year_claims = df_cleaned[df_cleaned['claim_date'].dt.year == 2018]['claim_amount']"
   ]
  },
  {
   "cell_type": "code",
   "execution_count": 593,
   "id": "8cab782a-1395-44b2-aad3-17b8ad927db4",
   "metadata": {},
   "outputs": [
    {
     "name": "stdout",
     "output_type": "stream",
     "text": [
      "T-statistic: 4.477343563243787, P-value: 4.717922110991665e-06\n"
     ]
    }
   ],
   "source": [
    "# One-sample one-sided t-test\n",
    "t_stat, p_val = stats.ttest_1samp(current_year_claims, 10000)\n",
    "\n",
    "# One-tailed test adjustment\n",
    "p_val = p_val / 2 if t_stat > 0 else 1 - (p_val / 2)\n",
    "\n",
    "print(f\"T-statistic: {t_stat}, P-value: {p_val}\")"
   ]
  },
  {
   "cell_type": "raw",
   "id": "f3a59c3b-1ca0-4352-ac7d-c77c3e6710d5",
   "metadata": {},
   "source": [
    "# decision:\n",
    "Since the p-value (0.0000047) is < 0.05, we reject the null hypothesis.\n",
    "This means there is strong statistical evidence that the average claim amount in the current year is significantly higher than $10,000."
   ]
  },
  {
   "cell_type": "raw",
   "id": "2d372609-5774-489a-b034-5276982ff286",
   "metadata": {},
   "source": [
    "#Business Implications\n",
    "The insurance company is experiencing higher average payouts this year.\n",
    "\n",
    "This may be due to:\n",
    "Costlier incidents\n",
    "Economic inflation\n",
    "Potential increase in fraudulent activities\n",
    "\n",
    "Recommended actions:\n",
    "Review claim approval processes\n",
    "Consider revising policy pricing or premiums\n",
    "Investigate for suspicious claim patterns\n",
    "Forecast for higher future reserves"
   ]
  },
  {
   "cell_type": "markdown",
   "id": "a75f2066-f2fd-4dd5-a4c9-9ba167545196",
   "metadata": {},
   "source": [
    "### 19. Is there any difference between age groups and insurance claims?"
   ]
  },
  {
   "cell_type": "raw",
   "id": "e6806a16-8a56-46e9-8544-3668cd0b2d02",
   "metadata": {},
   "source": [
    "Null Hypothesis (Ho): The mean claim amounts are the same across all age categories.\n",
    "\n",
    "Alternative Hypothesis (Ha): At least one age category has a different mean claim amount."
   ]
  },
  {
   "cell_type": "code",
   "execution_count": 595,
   "id": "8ee88028-12b9-45cd-a864-f6cf6ac3d6bb",
   "metadata": {},
   "outputs": [],
   "source": [
    "# Group claim amounts by age category\n",
    "youth = df_filtered[df_filtered['Age_Category'] == 'Youth']['claim_amount']\n",
    "adult = df_filtered[df_filtered['Age_Category'] == 'Adult']['claim_amount']\n",
    "senior = df_filtered[df_filtered['Age_Category'] == 'Senior']['claim_amount']"
   ]
  },
  {
   "cell_type": "code",
   "execution_count": 596,
   "id": "7341fdb6-8416-4c3f-b63a-08f65f709154",
   "metadata": {},
   "outputs": [
    {
     "name": "stdout",
     "output_type": "stream",
     "text": [
      "F-statistic: 0.1855, P-value: 0.8316\n"
     ]
    }
   ],
   "source": [
    "# Perform One-Way ANOVA\n",
    "f_stat, p_val = stats.f_oneway( youth, adult, senior)\n",
    "\n",
    "print(f\"F-statistic: {f_stat:.4f}, P-value: {p_val:.4f}\")"
   ]
  },
  {
   "cell_type": "raw",
   "id": "86d32d97-c800-4943-868b-8ad89a016c05",
   "metadata": {},
   "source": [
    "Since P-value = 0.8316 > 0.05, Ho is accepted.\n",
    "Business Interpretation\n",
    "There is no statistically significant difference in the average insurance claim amount across age categories. This means:\n",
    "\n",
    "Age category (Children, Youth, Adult, Senior) does not play a major role in influencing claim amounts.\n",
    "\n",
    "The insurance company should not prioritize age category alone when analyzing claim amount patterns."
   ]
  },
  {
   "cell_type": "markdown",
   "id": "8767ef2a-0f9b-42d4-9780-fd99373dc9a4",
   "metadata": {},
   "source": [
    "### 20. Is there any relationship between total number of policy claims and the claimed amount?"
   ]
  },
  {
   "cell_type": "raw",
   "id": "09e7a862-2ecc-4a04-9335-814083a7cf09",
   "metadata": {},
   "source": [
    "# DefiningHypothesis:\n",
    "Null Hypothesis (Ho): There is no relationship between the total number of policy claims and the claimed amount.\n",
    "\n",
    "Alternative Hypothesis (Ha): There is a relationship between the total number of policy claims and the claimed amount."
   ]
  },
  {
   "cell_type": "code",
   "execution_count": 598,
   "id": "f85f2253-fe4b-40d6-a622-95c9222ff8d2",
   "metadata": {},
   "outputs": [],
   "source": [
    "# filtering and grouping the data.\n",
    "df_corr = df_cleaned[['total_policy_claims', 'claim_amount']]"
   ]
  },
  {
   "cell_type": "code",
   "execution_count": 599,
   "id": "4e4239d4-97b8-43e7-a56b-f06e043093f4",
   "metadata": {},
   "outputs": [
    {
     "name": "stdout",
     "output_type": "stream",
     "text": [
      "Pearson correlation coefficient: -0.0219\n",
      "P-value: 0.4724\n"
     ]
    }
   ],
   "source": [
    "corr, p_value = stats.pearsonr(df_corr['total_policy_claims'], df_corr['claim_amount'])\n",
    "\n",
    "print(f'Pearson correlation coefficient: {corr:.4f}')\n",
    "print(f'P-value: {p_value:.4f}')"
   ]
  },
  {
   "cell_type": "raw",
   "id": "cfa20e31-c527-4f5d-983a-0d55f528b2e8",
   "metadata": {},
   "source": [
    "We applied a Pearson correlation test to determine the linear relationship between the two variables.\n",
    "\n",
    "This method evaluates:\n",
    "\n",
    "Whether claim frequency increases with claim amount (positive correlation)\n",
    "\n",
    "Whether claim frequency decreases as claim amount increases (negative correlation)\n",
    "\n",
    "Or whether there's no meaningful relationship at all (correlation near 0)"
   ]
  },
  {
   "cell_type": "code",
   "execution_count": 600,
   "id": "789c82e4-a56f-4be9-b789-bf61c431d7a8",
   "metadata": {},
   "outputs": [
    {
     "data": {
      "image/png": "[encoded data removed]",
      "text/plain": [
       "<Figure size 640x480 with 1 Axes>"
      ]
     },
     "metadata": {},
     "output_type": "display_data"
    }
   ],
   "source": [
    "plt.scatter(df_corr['total_policy_claims'], df_corr['claim_amount'], alpha=0.5)\n",
    "plt.xlabel('Total Number of Policy Claims')\n",
    "plt.ylabel('Claim Amount')\n",
    "plt.title('Relationship Between Total Claims and Claim Amount')\n",
    "plt.show()"
   ]
  },
  {
   "cell_type": "raw",
   "id": "1358955e-b2d9-4277-8327-46de268db179",
   "metadata": {},
   "source": [
    "#Interpretation:\n",
    "\n",
    "Based on the p-value of 0.4724, we fail to reject the null hypothesis.\n",
    "This means that there is no statistically significant relationship between the total number of policy claims and the claimed amount.\n",
    "    \n",
    "The correlation coefficient of -0.0219 indicates a very weak negative relationship between the total number of policy claims\n",
    "and the claimed amount.Practically, this is close to no correlation at all."
   ]
  },
  {
   "cell_type": "raw",
   "id": "3fc9bf35-33e5-4d81-a52d-ae7d3fe230cc",
   "metadata": {},
   "source": [
    "#Business Implications (Summary):\n",
    "Claim frequency is not a reliable indicator of claim amount.\n",
    "\n",
    "Risk assessment should consider additional factors like claim type, customer segment, or incident cause.\n",
    "\n",
    "High-frequency claimants are not necessarily high-cost, so avoid penalizing them without deeper analysis.\n",
    "\n",
    "Fraud detection should be based on patterns beyond just number of claims.\n",
    "\n",
    "Policy pricing models should include both claim frequency and severity for more accurate risk-based pricing."
   ]
  },
  {
   "cell_type": "code",
   "execution_count": null,
   "id": "bb8b4e86-b47a-46ab-ae2d-4972fe3f393a",
   "metadata": {},
   "outputs": [],
   "source": []
  }
 ],
 "metadata": {
  "kernelspec": {
   "display_name": "Python 3 (ipykernel)",
   "language": "python",
   "name": "python3"
  },
  "language_info": {
   "codemirror_mode": {
    "name": "ipython",
    "version": 3
   },
   "file_extension": ".py",
   "mimetype": "text/x-python",
   "name": "python",
   "nbconvert_exporter": "python",
   "pygments_lexer": "ipython3",
   "version": "3.12.4"
  },
  "widgets": {
   "application/vnd.jupyter.widget-state+json": {
    "state": {},
    "version_major": 2,
    "version_minor": 0
   }
  }
 },
 "nbformat": 4,
 "nbformat_minor": 5
}
